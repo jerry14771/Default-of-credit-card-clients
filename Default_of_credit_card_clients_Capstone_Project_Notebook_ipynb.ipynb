{
  "nbformat": 4,
  "nbformat_minor": 0,
  "metadata": {
    "kernelspec": {
      "display_name": "Python 3",
      "language": "python",
      "name": "python3"
    },
    "language_info": {
      "codemirror_mode": {
        "name": "ipython",
        "version": 3
      },
      "file_extension": ".py",
      "mimetype": "text/x-python",
      "name": "python",
      "nbconvert_exporter": "python",
      "pygments_lexer": "ipython3",
      "version": "3.6.6"
    },
    "colab": {
      "name": "Default of credit card clients - Capstone Project.Notebook ipynb",
      "provenance": [],
      "collapsed_sections": [],
      "include_colab_link": true
    }
  },
  "cells": [
    {
      "cell_type": "markdown",
      "metadata": {
        "id": "view-in-github",
        "colab_type": "text"
      },
      "source": [
        "<a href=\"https://colab.research.google.com/github/jerry14771/Default-of-credit-card-clients/blob/main/Default_of_credit_card_clients_Capstone_Project_Notebook_ipynb.ipynb\" target=\"_parent\"><img src=\"https://colab.research.google.com/assets/colab-badge.svg\" alt=\"Open In Colab\"/></a>"
      ]
    },
    {
      "cell_type": "markdown",
      "metadata": {
        "id": "tOGC-qoyhJeX"
      },
      "source": [
        "# <b><u> Project Title : Predicting whether a customer will default on his/her credit card </u></b>"
      ]
    },
    {
      "cell_type": "markdown",
      "metadata": {
        "id": "Y06xIdG26kRF"
      },
      "source": [
        "## <b> Problem Description </b>\n",
        "\n",
        "### This project is aimed at predicting the case of customers default payments in Taiwan. From the perspective of risk management, the result of predictive accuracy of the estimated probability of default will be more valuable than the binary result of classification - credible or not credible clients. We can use the [K-S chart](https://www.listendata.com/2019/07/KS-Statistics-Python.html) to evaluate which customers will default on their credit card payments\n"
      ]
    },
    {
      "cell_type": "markdown",
      "metadata": {
        "id": "AlLxAtlziMbP"
      },
      "source": [
        "## <b> Data Description </b>\n",
        "\n",
        "### <b>Attribute Information: </b>\n",
        "\n",
        "### This research employed a binary variable, default payment (Yes = 1, No = 0), as the response variable. This study reviewed the literature and used the following 23 variables as explanatory variables:\n",
        "* ### X1: Amount of the given credit (NT dollar): it includes both the individual consumer credit and his/her family (supplementary) credit.\n",
        "* ### X2: Gender (1 = male; 2 = female).\n",
        "* ### X3: Education (1 = graduate school; 2 = university; 3 = high school; 4 = others).\n",
        "* ### X4: Marital status (1 = married; 2 = single; 3 = others).\n",
        "* ### X5: Age (year).\n",
        "* ### X6 - X11: History of past payment. We tracked the past monthly payment records (from April to September, 2005) as follows: X6 = the repayment status in September, 2005; X7 = the repayment status in August, 2005; . . .;X11 = the repayment status in April, 2005. The measurement scale for the repayment status is: -1 = pay duly; 1 = payment delay for one month; 2 = payment delay for two months; . . .; 8 = payment delay for eight months; 9 = payment delay for nine months and above.\n",
        "* ### X12-X17: Amount of bill statement (NT dollar). X12 = amount of bill statement in September, 2005; X13 = amount of bill statement in August, 2005; . . .; X17 = amount of bill statement in April, 2005.\n",
        "* ### X18-X23: Amount of previous payment (NT dollar). X18 = amount paid in September, 2005; X19 = amount paid in August, 2005; . . .;X23 = amount paid in April, 2005."
      ]
    },
    {
      "cell_type": "code",
      "metadata": {
        "id": "dByMsuzT8Tnw"
      },
      "source": [
        "import pandas as pd\n",
        "import numpy as np\n",
        "import seaborn as sns\n",
        "import matplotlib.pyplot as plt\n",
        "from sklearn.preprocessing import StandardScaler\n",
        "from sklearn.model_selection import train_test_split\n",
        "from sklearn.linear_model import LogisticRegression\n",
        "from sklearn.ensemble import RandomForestClassifier\n",
        "from sklearn.svm import SVC\n",
        "from sklearn.neighbors import KNeighborsClassifier\n",
        "%matplotlib inline\n",
        "from sklearn.model_selection import GridSearchCV as gsv\n",
        "import warnings\n",
        "warnings.filterwarnings('ignore')"
      ],
      "execution_count": 2,
      "outputs": []
    },
    {
      "cell_type": "code",
      "source": [
        "from google.colab import drive\n",
        "drive.mount('/content/drive')"
      ],
      "metadata": {
        "colab": {
          "base_uri": "https://localhost:8080/"
        },
        "id": "baNCLKkat53r",
        "outputId": "2ef7f1f9-4d7a-45de-b2c2-7b9a1b3af2d2"
      },
      "execution_count": 3,
      "outputs": [
        {
          "output_type": "stream",
          "name": "stdout",
          "text": [
            "Mounted at /content/drive\n"
          ]
        }
      ]
    },
    {
      "cell_type": "code",
      "source": [
        "print(pd.__version__)"
      ],
      "metadata": {
        "colab": {
          "base_uri": "https://localhost:8080/"
        },
        "id": "BsM7bOzBJ3V5",
        "outputId": "6beacbce-772e-470b-8bbb-a5b47a63b22d"
      },
      "execution_count": 4,
      "outputs": [
        {
          "output_type": "stream",
          "name": "stdout",
          "text": [
            "1.3.5\n"
          ]
        }
      ]
    },
    {
      "cell_type": "code",
      "source": [
        "pip install --upgrade xlrd"
      ],
      "metadata": {
        "colab": {
          "base_uri": "https://localhost:8080/"
        },
        "id": "EnSBaxwmKYcq",
        "outputId": "5da68348-07a3-473f-fd8b-c320958436d3"
      },
      "execution_count": 5,
      "outputs": [
        {
          "output_type": "stream",
          "name": "stdout",
          "text": [
            "Requirement already satisfied: xlrd in /usr/local/lib/python3.7/dist-packages (1.1.0)\n",
            "Collecting xlrd\n",
            "  Downloading xlrd-2.0.1-py2.py3-none-any.whl (96 kB)\n",
            "\u001b[?25l\r\u001b[K     |███▍                            | 10 kB 16.3 MB/s eta 0:00:01\r\u001b[K     |██████▉                         | 20 kB 20.3 MB/s eta 0:00:01\r\u001b[K     |██████████▏                     | 30 kB 25.0 MB/s eta 0:00:01\r\u001b[K     |█████████████▋                  | 40 kB 19.0 MB/s eta 0:00:01\r\u001b[K     |█████████████████               | 51 kB 17.0 MB/s eta 0:00:01\r\u001b[K     |████████████████████▍           | 61 kB 19.5 MB/s eta 0:00:01\r\u001b[K     |███████████████████████▊        | 71 kB 18.8 MB/s eta 0:00:01\r\u001b[K     |███████████████████████████▏    | 81 kB 19.4 MB/s eta 0:00:01\r\u001b[K     |██████████████████████████████▌ | 92 kB 20.6 MB/s eta 0:00:01\r\u001b[K     |████████████████████████████████| 96 kB 3.9 MB/s \n",
            "\u001b[?25hInstalling collected packages: xlrd\n",
            "  Attempting uninstall: xlrd\n",
            "    Found existing installation: xlrd 1.1.0\n",
            "    Uninstalling xlrd-1.1.0:\n",
            "      Successfully uninstalled xlrd-1.1.0\n",
            "Successfully installed xlrd-2.0.1\n"
          ]
        }
      ]
    },
    {
      "cell_type": "code",
      "source": [
        "!pip3 install pandas --upgrade"
      ],
      "metadata": {
        "colab": {
          "base_uri": "https://localhost:8080/"
        },
        "id": "jrYy0jmvJ_ll",
        "outputId": "0dd2194e-b69f-4f56-b1b7-59783d3e44d3"
      },
      "execution_count": 6,
      "outputs": [
        {
          "output_type": "stream",
          "name": "stdout",
          "text": [
            "Requirement already satisfied: pandas in /usr/local/lib/python3.7/dist-packages (1.3.5)\n",
            "Requirement already satisfied: python-dateutil>=2.7.3 in /usr/local/lib/python3.7/dist-packages (from pandas) (2.8.2)\n",
            "Requirement already satisfied: numpy>=1.17.3 in /usr/local/lib/python3.7/dist-packages (from pandas) (1.21.5)\n",
            "Requirement already satisfied: pytz>=2017.3 in /usr/local/lib/python3.7/dist-packages (from pandas) (2018.9)\n",
            "Requirement already satisfied: six>=1.5 in /usr/local/lib/python3.7/dist-packages (from python-dateutil>=2.7.3->pandas) (1.15.0)\n"
          ]
        }
      ]
    },
    {
      "cell_type": "code",
      "source": [
        "df = pd.read_excel('/content/drive/MyDrive/Capstone Project- Credit Card Fraud/Copy of default of credit card clients.xls', index_col=None)"
      ],
      "metadata": {
        "id": "r815jxINwlyW"
      },
      "execution_count": 7,
      "outputs": []
    },
    {
      "cell_type": "code",
      "source": [
        "df.head()"
      ],
      "metadata": {
        "colab": {
          "base_uri": "https://localhost:8080/",
          "height": 339
        },
        "id": "4KRHxAFdGvOk",
        "outputId": "50800199-54ba-4e52-a0a3-0799f99035ed"
      },
      "execution_count": 8,
      "outputs": [
        {
          "output_type": "execute_result",
          "data": {
            "text/html": [
              "\n",
              "  <div id=\"df-c772ffa5-1ca4-4dc4-9223-779c82b62da3\">\n",
              "    <div class=\"colab-df-container\">\n",
              "      <div>\n",
              "<style scoped>\n",
              "    .dataframe tbody tr th:only-of-type {\n",
              "        vertical-align: middle;\n",
              "    }\n",
              "\n",
              "    .dataframe tbody tr th {\n",
              "        vertical-align: top;\n",
              "    }\n",
              "\n",
              "    .dataframe thead th {\n",
              "        text-align: right;\n",
              "    }\n",
              "</style>\n",
              "<table border=\"1\" class=\"dataframe\">\n",
              "  <thead>\n",
              "    <tr style=\"text-align: right;\">\n",
              "      <th></th>\n",
              "      <th>Unnamed: 0</th>\n",
              "      <th>X1</th>\n",
              "      <th>X2</th>\n",
              "      <th>X3</th>\n",
              "      <th>X4</th>\n",
              "      <th>X5</th>\n",
              "      <th>X6</th>\n",
              "      <th>X7</th>\n",
              "      <th>X8</th>\n",
              "      <th>X9</th>\n",
              "      <th>X10</th>\n",
              "      <th>X11</th>\n",
              "      <th>X12</th>\n",
              "      <th>X13</th>\n",
              "      <th>X14</th>\n",
              "      <th>X15</th>\n",
              "      <th>X16</th>\n",
              "      <th>X17</th>\n",
              "      <th>X18</th>\n",
              "      <th>X19</th>\n",
              "      <th>X20</th>\n",
              "      <th>X21</th>\n",
              "      <th>X22</th>\n",
              "      <th>X23</th>\n",
              "      <th>Y</th>\n",
              "    </tr>\n",
              "  </thead>\n",
              "  <tbody>\n",
              "    <tr>\n",
              "      <th>0</th>\n",
              "      <td>ID</td>\n",
              "      <td>LIMIT_BAL</td>\n",
              "      <td>SEX</td>\n",
              "      <td>EDUCATION</td>\n",
              "      <td>MARRIAGE</td>\n",
              "      <td>AGE</td>\n",
              "      <td>PAY_0</td>\n",
              "      <td>PAY_2</td>\n",
              "      <td>PAY_3</td>\n",
              "      <td>PAY_4</td>\n",
              "      <td>PAY_5</td>\n",
              "      <td>PAY_6</td>\n",
              "      <td>BILL_AMT1</td>\n",
              "      <td>BILL_AMT2</td>\n",
              "      <td>BILL_AMT3</td>\n",
              "      <td>BILL_AMT4</td>\n",
              "      <td>BILL_AMT5</td>\n",
              "      <td>BILL_AMT6</td>\n",
              "      <td>PAY_AMT1</td>\n",
              "      <td>PAY_AMT2</td>\n",
              "      <td>PAY_AMT3</td>\n",
              "      <td>PAY_AMT4</td>\n",
              "      <td>PAY_AMT5</td>\n",
              "      <td>PAY_AMT6</td>\n",
              "      <td>default payment next month</td>\n",
              "    </tr>\n",
              "    <tr>\n",
              "      <th>1</th>\n",
              "      <td>1</td>\n",
              "      <td>20000</td>\n",
              "      <td>2</td>\n",
              "      <td>2</td>\n",
              "      <td>1</td>\n",
              "      <td>24</td>\n",
              "      <td>2</td>\n",
              "      <td>2</td>\n",
              "      <td>-1</td>\n",
              "      <td>-1</td>\n",
              "      <td>-2</td>\n",
              "      <td>-2</td>\n",
              "      <td>3913</td>\n",
              "      <td>3102</td>\n",
              "      <td>689</td>\n",
              "      <td>0</td>\n",
              "      <td>0</td>\n",
              "      <td>0</td>\n",
              "      <td>0</td>\n",
              "      <td>689</td>\n",
              "      <td>0</td>\n",
              "      <td>0</td>\n",
              "      <td>0</td>\n",
              "      <td>0</td>\n",
              "      <td>1</td>\n",
              "    </tr>\n",
              "    <tr>\n",
              "      <th>2</th>\n",
              "      <td>2</td>\n",
              "      <td>120000</td>\n",
              "      <td>2</td>\n",
              "      <td>2</td>\n",
              "      <td>2</td>\n",
              "      <td>26</td>\n",
              "      <td>-1</td>\n",
              "      <td>2</td>\n",
              "      <td>0</td>\n",
              "      <td>0</td>\n",
              "      <td>0</td>\n",
              "      <td>2</td>\n",
              "      <td>2682</td>\n",
              "      <td>1725</td>\n",
              "      <td>2682</td>\n",
              "      <td>3272</td>\n",
              "      <td>3455</td>\n",
              "      <td>3261</td>\n",
              "      <td>0</td>\n",
              "      <td>1000</td>\n",
              "      <td>1000</td>\n",
              "      <td>1000</td>\n",
              "      <td>0</td>\n",
              "      <td>2000</td>\n",
              "      <td>1</td>\n",
              "    </tr>\n",
              "    <tr>\n",
              "      <th>3</th>\n",
              "      <td>3</td>\n",
              "      <td>90000</td>\n",
              "      <td>2</td>\n",
              "      <td>2</td>\n",
              "      <td>2</td>\n",
              "      <td>34</td>\n",
              "      <td>0</td>\n",
              "      <td>0</td>\n",
              "      <td>0</td>\n",
              "      <td>0</td>\n",
              "      <td>0</td>\n",
              "      <td>0</td>\n",
              "      <td>29239</td>\n",
              "      <td>14027</td>\n",
              "      <td>13559</td>\n",
              "      <td>14331</td>\n",
              "      <td>14948</td>\n",
              "      <td>15549</td>\n",
              "      <td>1518</td>\n",
              "      <td>1500</td>\n",
              "      <td>1000</td>\n",
              "      <td>1000</td>\n",
              "      <td>1000</td>\n",
              "      <td>5000</td>\n",
              "      <td>0</td>\n",
              "    </tr>\n",
              "    <tr>\n",
              "      <th>4</th>\n",
              "      <td>4</td>\n",
              "      <td>50000</td>\n",
              "      <td>2</td>\n",
              "      <td>2</td>\n",
              "      <td>1</td>\n",
              "      <td>37</td>\n",
              "      <td>0</td>\n",
              "      <td>0</td>\n",
              "      <td>0</td>\n",
              "      <td>0</td>\n",
              "      <td>0</td>\n",
              "      <td>0</td>\n",
              "      <td>46990</td>\n",
              "      <td>48233</td>\n",
              "      <td>49291</td>\n",
              "      <td>28314</td>\n",
              "      <td>28959</td>\n",
              "      <td>29547</td>\n",
              "      <td>2000</td>\n",
              "      <td>2019</td>\n",
              "      <td>1200</td>\n",
              "      <td>1100</td>\n",
              "      <td>1069</td>\n",
              "      <td>1000</td>\n",
              "      <td>0</td>\n",
              "    </tr>\n",
              "  </tbody>\n",
              "</table>\n",
              "</div>\n",
              "      <button class=\"colab-df-convert\" onclick=\"convertToInteractive('df-c772ffa5-1ca4-4dc4-9223-779c82b62da3')\"\n",
              "              title=\"Convert this dataframe to an interactive table.\"\n",
              "              style=\"display:none;\">\n",
              "        \n",
              "  <svg xmlns=\"http://www.w3.org/2000/svg\" height=\"24px\"viewBox=\"0 0 24 24\"\n",
              "       width=\"24px\">\n",
              "    <path d=\"M0 0h24v24H0V0z\" fill=\"none\"/>\n",
              "    <path d=\"M18.56 5.44l.94 2.06.94-2.06 2.06-.94-2.06-.94-.94-2.06-.94 2.06-2.06.94zm-11 1L8.5 8.5l.94-2.06 2.06-.94-2.06-.94L8.5 2.5l-.94 2.06-2.06.94zm10 10l.94 2.06.94-2.06 2.06-.94-2.06-.94-.94-2.06-.94 2.06-2.06.94z\"/><path d=\"M17.41 7.96l-1.37-1.37c-.4-.4-.92-.59-1.43-.59-.52 0-1.04.2-1.43.59L10.3 9.45l-7.72 7.72c-.78.78-.78 2.05 0 2.83L4 21.41c.39.39.9.59 1.41.59.51 0 1.02-.2 1.41-.59l7.78-7.78 2.81-2.81c.8-.78.8-2.07 0-2.86zM5.41 20L4 18.59l7.72-7.72 1.47 1.35L5.41 20z\"/>\n",
              "  </svg>\n",
              "      </button>\n",
              "      \n",
              "  <style>\n",
              "    .colab-df-container {\n",
              "      display:flex;\n",
              "      flex-wrap:wrap;\n",
              "      gap: 12px;\n",
              "    }\n",
              "\n",
              "    .colab-df-convert {\n",
              "      background-color: #E8F0FE;\n",
              "      border: none;\n",
              "      border-radius: 50%;\n",
              "      cursor: pointer;\n",
              "      display: none;\n",
              "      fill: #1967D2;\n",
              "      height: 32px;\n",
              "      padding: 0 0 0 0;\n",
              "      width: 32px;\n",
              "    }\n",
              "\n",
              "    .colab-df-convert:hover {\n",
              "      background-color: #E2EBFA;\n",
              "      box-shadow: 0px 1px 2px rgba(60, 64, 67, 0.3), 0px 1px 3px 1px rgba(60, 64, 67, 0.15);\n",
              "      fill: #174EA6;\n",
              "    }\n",
              "\n",
              "    [theme=dark] .colab-df-convert {\n",
              "      background-color: #3B4455;\n",
              "      fill: #D2E3FC;\n",
              "    }\n",
              "\n",
              "    [theme=dark] .colab-df-convert:hover {\n",
              "      background-color: #434B5C;\n",
              "      box-shadow: 0px 1px 3px 1px rgba(0, 0, 0, 0.15);\n",
              "      filter: drop-shadow(0px 1px 2px rgba(0, 0, 0, 0.3));\n",
              "      fill: #FFFFFF;\n",
              "    }\n",
              "  </style>\n",
              "\n",
              "      <script>\n",
              "        const buttonEl =\n",
              "          document.querySelector('#df-c772ffa5-1ca4-4dc4-9223-779c82b62da3 button.colab-df-convert');\n",
              "        buttonEl.style.display =\n",
              "          google.colab.kernel.accessAllowed ? 'block' : 'none';\n",
              "\n",
              "        async function convertToInteractive(key) {\n",
              "          const element = document.querySelector('#df-c772ffa5-1ca4-4dc4-9223-779c82b62da3');\n",
              "          const dataTable =\n",
              "            await google.colab.kernel.invokeFunction('convertToInteractive',\n",
              "                                                     [key], {});\n",
              "          if (!dataTable) return;\n",
              "\n",
              "          const docLinkHtml = 'Like what you see? Visit the ' +\n",
              "            '<a target=\"_blank\" href=https://colab.research.google.com/notebooks/data_table.ipynb>data table notebook</a>'\n",
              "            + ' to learn more about interactive tables.';\n",
              "          element.innerHTML = '';\n",
              "          dataTable['output_type'] = 'display_data';\n",
              "          await google.colab.output.renderOutput(dataTable, element);\n",
              "          const docLink = document.createElement('div');\n",
              "          docLink.innerHTML = docLinkHtml;\n",
              "          element.appendChild(docLink);\n",
              "        }\n",
              "      </script>\n",
              "    </div>\n",
              "  </div>\n",
              "  "
            ],
            "text/plain": [
              "  Unnamed: 0         X1   X2  ...       X22       X23                           Y\n",
              "0         ID  LIMIT_BAL  SEX  ...  PAY_AMT5  PAY_AMT6  default payment next month\n",
              "1          1      20000    2  ...         0         0                           1\n",
              "2          2     120000    2  ...         0      2000                           1\n",
              "3          3      90000    2  ...      1000      5000                           0\n",
              "4          4      50000    2  ...      1069      1000                           0\n",
              "\n",
              "[5 rows x 25 columns]"
            ]
          },
          "metadata": {},
          "execution_count": 8
        }
      ]
    },
    {
      "cell_type": "code",
      "source": [
        "new_header = df.iloc[0] #grab the first row for the header\n",
        "df = df[1:] #take the data less the header row\n",
        "df.columns = new_header #set the header row as the df header"
      ],
      "metadata": {
        "id": "V9v5kYPoxXTO"
      },
      "execution_count": 9,
      "outputs": []
    },
    {
      "cell_type": "code",
      "source": [
        "df.head()"
      ],
      "metadata": {
        "colab": {
          "base_uri": "https://localhost:8080/",
          "height": 322
        },
        "id": "XJ6zHF9exYD3",
        "outputId": "494aa7c5-92bd-40ad-eaa6-ef72f9cbd6e1"
      },
      "execution_count": 10,
      "outputs": [
        {
          "output_type": "execute_result",
          "data": {
            "text/html": [
              "\n",
              "  <div id=\"df-beebc8a4-20a8-4758-b411-9288b23867c6\">\n",
              "    <div class=\"colab-df-container\">\n",
              "      <div>\n",
              "<style scoped>\n",
              "    .dataframe tbody tr th:only-of-type {\n",
              "        vertical-align: middle;\n",
              "    }\n",
              "\n",
              "    .dataframe tbody tr th {\n",
              "        vertical-align: top;\n",
              "    }\n",
              "\n",
              "    .dataframe thead th {\n",
              "        text-align: right;\n",
              "    }\n",
              "</style>\n",
              "<table border=\"1\" class=\"dataframe\">\n",
              "  <thead>\n",
              "    <tr style=\"text-align: right;\">\n",
              "      <th></th>\n",
              "      <th>ID</th>\n",
              "      <th>LIMIT_BAL</th>\n",
              "      <th>SEX</th>\n",
              "      <th>EDUCATION</th>\n",
              "      <th>MARRIAGE</th>\n",
              "      <th>AGE</th>\n",
              "      <th>PAY_0</th>\n",
              "      <th>PAY_2</th>\n",
              "      <th>PAY_3</th>\n",
              "      <th>PAY_4</th>\n",
              "      <th>PAY_5</th>\n",
              "      <th>PAY_6</th>\n",
              "      <th>BILL_AMT1</th>\n",
              "      <th>BILL_AMT2</th>\n",
              "      <th>BILL_AMT3</th>\n",
              "      <th>BILL_AMT4</th>\n",
              "      <th>BILL_AMT5</th>\n",
              "      <th>BILL_AMT6</th>\n",
              "      <th>PAY_AMT1</th>\n",
              "      <th>PAY_AMT2</th>\n",
              "      <th>PAY_AMT3</th>\n",
              "      <th>PAY_AMT4</th>\n",
              "      <th>PAY_AMT5</th>\n",
              "      <th>PAY_AMT6</th>\n",
              "      <th>default payment next month</th>\n",
              "    </tr>\n",
              "  </thead>\n",
              "  <tbody>\n",
              "    <tr>\n",
              "      <th>1</th>\n",
              "      <td>1</td>\n",
              "      <td>20000</td>\n",
              "      <td>2</td>\n",
              "      <td>2</td>\n",
              "      <td>1</td>\n",
              "      <td>24</td>\n",
              "      <td>2</td>\n",
              "      <td>2</td>\n",
              "      <td>-1</td>\n",
              "      <td>-1</td>\n",
              "      <td>-2</td>\n",
              "      <td>-2</td>\n",
              "      <td>3913</td>\n",
              "      <td>3102</td>\n",
              "      <td>689</td>\n",
              "      <td>0</td>\n",
              "      <td>0</td>\n",
              "      <td>0</td>\n",
              "      <td>0</td>\n",
              "      <td>689</td>\n",
              "      <td>0</td>\n",
              "      <td>0</td>\n",
              "      <td>0</td>\n",
              "      <td>0</td>\n",
              "      <td>1</td>\n",
              "    </tr>\n",
              "    <tr>\n",
              "      <th>2</th>\n",
              "      <td>2</td>\n",
              "      <td>120000</td>\n",
              "      <td>2</td>\n",
              "      <td>2</td>\n",
              "      <td>2</td>\n",
              "      <td>26</td>\n",
              "      <td>-1</td>\n",
              "      <td>2</td>\n",
              "      <td>0</td>\n",
              "      <td>0</td>\n",
              "      <td>0</td>\n",
              "      <td>2</td>\n",
              "      <td>2682</td>\n",
              "      <td>1725</td>\n",
              "      <td>2682</td>\n",
              "      <td>3272</td>\n",
              "      <td>3455</td>\n",
              "      <td>3261</td>\n",
              "      <td>0</td>\n",
              "      <td>1000</td>\n",
              "      <td>1000</td>\n",
              "      <td>1000</td>\n",
              "      <td>0</td>\n",
              "      <td>2000</td>\n",
              "      <td>1</td>\n",
              "    </tr>\n",
              "    <tr>\n",
              "      <th>3</th>\n",
              "      <td>3</td>\n",
              "      <td>90000</td>\n",
              "      <td>2</td>\n",
              "      <td>2</td>\n",
              "      <td>2</td>\n",
              "      <td>34</td>\n",
              "      <td>0</td>\n",
              "      <td>0</td>\n",
              "      <td>0</td>\n",
              "      <td>0</td>\n",
              "      <td>0</td>\n",
              "      <td>0</td>\n",
              "      <td>29239</td>\n",
              "      <td>14027</td>\n",
              "      <td>13559</td>\n",
              "      <td>14331</td>\n",
              "      <td>14948</td>\n",
              "      <td>15549</td>\n",
              "      <td>1518</td>\n",
              "      <td>1500</td>\n",
              "      <td>1000</td>\n",
              "      <td>1000</td>\n",
              "      <td>1000</td>\n",
              "      <td>5000</td>\n",
              "      <td>0</td>\n",
              "    </tr>\n",
              "    <tr>\n",
              "      <th>4</th>\n",
              "      <td>4</td>\n",
              "      <td>50000</td>\n",
              "      <td>2</td>\n",
              "      <td>2</td>\n",
              "      <td>1</td>\n",
              "      <td>37</td>\n",
              "      <td>0</td>\n",
              "      <td>0</td>\n",
              "      <td>0</td>\n",
              "      <td>0</td>\n",
              "      <td>0</td>\n",
              "      <td>0</td>\n",
              "      <td>46990</td>\n",
              "      <td>48233</td>\n",
              "      <td>49291</td>\n",
              "      <td>28314</td>\n",
              "      <td>28959</td>\n",
              "      <td>29547</td>\n",
              "      <td>2000</td>\n",
              "      <td>2019</td>\n",
              "      <td>1200</td>\n",
              "      <td>1100</td>\n",
              "      <td>1069</td>\n",
              "      <td>1000</td>\n",
              "      <td>0</td>\n",
              "    </tr>\n",
              "    <tr>\n",
              "      <th>5</th>\n",
              "      <td>5</td>\n",
              "      <td>50000</td>\n",
              "      <td>1</td>\n",
              "      <td>2</td>\n",
              "      <td>1</td>\n",
              "      <td>57</td>\n",
              "      <td>-1</td>\n",
              "      <td>0</td>\n",
              "      <td>-1</td>\n",
              "      <td>0</td>\n",
              "      <td>0</td>\n",
              "      <td>0</td>\n",
              "      <td>8617</td>\n",
              "      <td>5670</td>\n",
              "      <td>35835</td>\n",
              "      <td>20940</td>\n",
              "      <td>19146</td>\n",
              "      <td>19131</td>\n",
              "      <td>2000</td>\n",
              "      <td>36681</td>\n",
              "      <td>10000</td>\n",
              "      <td>9000</td>\n",
              "      <td>689</td>\n",
              "      <td>679</td>\n",
              "      <td>0</td>\n",
              "    </tr>\n",
              "  </tbody>\n",
              "</table>\n",
              "</div>\n",
              "      <button class=\"colab-df-convert\" onclick=\"convertToInteractive('df-beebc8a4-20a8-4758-b411-9288b23867c6')\"\n",
              "              title=\"Convert this dataframe to an interactive table.\"\n",
              "              style=\"display:none;\">\n",
              "        \n",
              "  <svg xmlns=\"http://www.w3.org/2000/svg\" height=\"24px\"viewBox=\"0 0 24 24\"\n",
              "       width=\"24px\">\n",
              "    <path d=\"M0 0h24v24H0V0z\" fill=\"none\"/>\n",
              "    <path d=\"M18.56 5.44l.94 2.06.94-2.06 2.06-.94-2.06-.94-.94-2.06-.94 2.06-2.06.94zm-11 1L8.5 8.5l.94-2.06 2.06-.94-2.06-.94L8.5 2.5l-.94 2.06-2.06.94zm10 10l.94 2.06.94-2.06 2.06-.94-2.06-.94-.94-2.06-.94 2.06-2.06.94z\"/><path d=\"M17.41 7.96l-1.37-1.37c-.4-.4-.92-.59-1.43-.59-.52 0-1.04.2-1.43.59L10.3 9.45l-7.72 7.72c-.78.78-.78 2.05 0 2.83L4 21.41c.39.39.9.59 1.41.59.51 0 1.02-.2 1.41-.59l7.78-7.78 2.81-2.81c.8-.78.8-2.07 0-2.86zM5.41 20L4 18.59l7.72-7.72 1.47 1.35L5.41 20z\"/>\n",
              "  </svg>\n",
              "      </button>\n",
              "      \n",
              "  <style>\n",
              "    .colab-df-container {\n",
              "      display:flex;\n",
              "      flex-wrap:wrap;\n",
              "      gap: 12px;\n",
              "    }\n",
              "\n",
              "    .colab-df-convert {\n",
              "      background-color: #E8F0FE;\n",
              "      border: none;\n",
              "      border-radius: 50%;\n",
              "      cursor: pointer;\n",
              "      display: none;\n",
              "      fill: #1967D2;\n",
              "      height: 32px;\n",
              "      padding: 0 0 0 0;\n",
              "      width: 32px;\n",
              "    }\n",
              "\n",
              "    .colab-df-convert:hover {\n",
              "      background-color: #E2EBFA;\n",
              "      box-shadow: 0px 1px 2px rgba(60, 64, 67, 0.3), 0px 1px 3px 1px rgba(60, 64, 67, 0.15);\n",
              "      fill: #174EA6;\n",
              "    }\n",
              "\n",
              "    [theme=dark] .colab-df-convert {\n",
              "      background-color: #3B4455;\n",
              "      fill: #D2E3FC;\n",
              "    }\n",
              "\n",
              "    [theme=dark] .colab-df-convert:hover {\n",
              "      background-color: #434B5C;\n",
              "      box-shadow: 0px 1px 3px 1px rgba(0, 0, 0, 0.15);\n",
              "      filter: drop-shadow(0px 1px 2px rgba(0, 0, 0, 0.3));\n",
              "      fill: #FFFFFF;\n",
              "    }\n",
              "  </style>\n",
              "\n",
              "      <script>\n",
              "        const buttonEl =\n",
              "          document.querySelector('#df-beebc8a4-20a8-4758-b411-9288b23867c6 button.colab-df-convert');\n",
              "        buttonEl.style.display =\n",
              "          google.colab.kernel.accessAllowed ? 'block' : 'none';\n",
              "\n",
              "        async function convertToInteractive(key) {\n",
              "          const element = document.querySelector('#df-beebc8a4-20a8-4758-b411-9288b23867c6');\n",
              "          const dataTable =\n",
              "            await google.colab.kernel.invokeFunction('convertToInteractive',\n",
              "                                                     [key], {});\n",
              "          if (!dataTable) return;\n",
              "\n",
              "          const docLinkHtml = 'Like what you see? Visit the ' +\n",
              "            '<a target=\"_blank\" href=https://colab.research.google.com/notebooks/data_table.ipynb>data table notebook</a>'\n",
              "            + ' to learn more about interactive tables.';\n",
              "          element.innerHTML = '';\n",
              "          dataTable['output_type'] = 'display_data';\n",
              "          await google.colab.output.renderOutput(dataTable, element);\n",
              "          const docLink = document.createElement('div');\n",
              "          docLink.innerHTML = docLinkHtml;\n",
              "          element.appendChild(docLink);\n",
              "        }\n",
              "      </script>\n",
              "    </div>\n",
              "  </div>\n",
              "  "
            ],
            "text/plain": [
              "0 ID LIMIT_BAL SEX  ... PAY_AMT5 PAY_AMT6 default payment next month\n",
              "1  1     20000   2  ...        0        0                          1\n",
              "2  2    120000   2  ...        0     2000                          1\n",
              "3  3     90000   2  ...     1000     5000                          0\n",
              "4  4     50000   2  ...     1069     1000                          0\n",
              "5  5     50000   1  ...      689      679                          0\n",
              "\n",
              "[5 rows x 25 columns]"
            ]
          },
          "metadata": {},
          "execution_count": 10
        }
      ]
    },
    {
      "cell_type": "code",
      "source": [
        "df.tail()"
      ],
      "metadata": {
        "colab": {
          "base_uri": "https://localhost:8080/",
          "height": 322
        },
        "id": "BZben8Zc3LBs",
        "outputId": "66a60ce2-6e02-4bea-9ff6-325f0dd00378"
      },
      "execution_count": 11,
      "outputs": [
        {
          "output_type": "execute_result",
          "data": {
            "text/html": [
              "\n",
              "  <div id=\"df-6f20bf91-1719-4a74-bd8a-01606867d1b6\">\n",
              "    <div class=\"colab-df-container\">\n",
              "      <div>\n",
              "<style scoped>\n",
              "    .dataframe tbody tr th:only-of-type {\n",
              "        vertical-align: middle;\n",
              "    }\n",
              "\n",
              "    .dataframe tbody tr th {\n",
              "        vertical-align: top;\n",
              "    }\n",
              "\n",
              "    .dataframe thead th {\n",
              "        text-align: right;\n",
              "    }\n",
              "</style>\n",
              "<table border=\"1\" class=\"dataframe\">\n",
              "  <thead>\n",
              "    <tr style=\"text-align: right;\">\n",
              "      <th></th>\n",
              "      <th>ID</th>\n",
              "      <th>LIMIT_BAL</th>\n",
              "      <th>SEX</th>\n",
              "      <th>EDUCATION</th>\n",
              "      <th>MARRIAGE</th>\n",
              "      <th>AGE</th>\n",
              "      <th>PAY_0</th>\n",
              "      <th>PAY_2</th>\n",
              "      <th>PAY_3</th>\n",
              "      <th>PAY_4</th>\n",
              "      <th>PAY_5</th>\n",
              "      <th>PAY_6</th>\n",
              "      <th>BILL_AMT1</th>\n",
              "      <th>BILL_AMT2</th>\n",
              "      <th>BILL_AMT3</th>\n",
              "      <th>BILL_AMT4</th>\n",
              "      <th>BILL_AMT5</th>\n",
              "      <th>BILL_AMT6</th>\n",
              "      <th>PAY_AMT1</th>\n",
              "      <th>PAY_AMT2</th>\n",
              "      <th>PAY_AMT3</th>\n",
              "      <th>PAY_AMT4</th>\n",
              "      <th>PAY_AMT5</th>\n",
              "      <th>PAY_AMT6</th>\n",
              "      <th>default payment next month</th>\n",
              "    </tr>\n",
              "  </thead>\n",
              "  <tbody>\n",
              "    <tr>\n",
              "      <th>29996</th>\n",
              "      <td>29996</td>\n",
              "      <td>220000</td>\n",
              "      <td>1</td>\n",
              "      <td>3</td>\n",
              "      <td>1</td>\n",
              "      <td>39</td>\n",
              "      <td>0</td>\n",
              "      <td>0</td>\n",
              "      <td>0</td>\n",
              "      <td>0</td>\n",
              "      <td>0</td>\n",
              "      <td>0</td>\n",
              "      <td>188948</td>\n",
              "      <td>192815</td>\n",
              "      <td>208365</td>\n",
              "      <td>88004</td>\n",
              "      <td>31237</td>\n",
              "      <td>15980</td>\n",
              "      <td>8500</td>\n",
              "      <td>20000</td>\n",
              "      <td>5003</td>\n",
              "      <td>3047</td>\n",
              "      <td>5000</td>\n",
              "      <td>1000</td>\n",
              "      <td>0</td>\n",
              "    </tr>\n",
              "    <tr>\n",
              "      <th>29997</th>\n",
              "      <td>29997</td>\n",
              "      <td>150000</td>\n",
              "      <td>1</td>\n",
              "      <td>3</td>\n",
              "      <td>2</td>\n",
              "      <td>43</td>\n",
              "      <td>-1</td>\n",
              "      <td>-1</td>\n",
              "      <td>-1</td>\n",
              "      <td>-1</td>\n",
              "      <td>0</td>\n",
              "      <td>0</td>\n",
              "      <td>1683</td>\n",
              "      <td>1828</td>\n",
              "      <td>3502</td>\n",
              "      <td>8979</td>\n",
              "      <td>5190</td>\n",
              "      <td>0</td>\n",
              "      <td>1837</td>\n",
              "      <td>3526</td>\n",
              "      <td>8998</td>\n",
              "      <td>129</td>\n",
              "      <td>0</td>\n",
              "      <td>0</td>\n",
              "      <td>0</td>\n",
              "    </tr>\n",
              "    <tr>\n",
              "      <th>29998</th>\n",
              "      <td>29998</td>\n",
              "      <td>30000</td>\n",
              "      <td>1</td>\n",
              "      <td>2</td>\n",
              "      <td>2</td>\n",
              "      <td>37</td>\n",
              "      <td>4</td>\n",
              "      <td>3</td>\n",
              "      <td>2</td>\n",
              "      <td>-1</td>\n",
              "      <td>0</td>\n",
              "      <td>0</td>\n",
              "      <td>3565</td>\n",
              "      <td>3356</td>\n",
              "      <td>2758</td>\n",
              "      <td>20878</td>\n",
              "      <td>20582</td>\n",
              "      <td>19357</td>\n",
              "      <td>0</td>\n",
              "      <td>0</td>\n",
              "      <td>22000</td>\n",
              "      <td>4200</td>\n",
              "      <td>2000</td>\n",
              "      <td>3100</td>\n",
              "      <td>1</td>\n",
              "    </tr>\n",
              "    <tr>\n",
              "      <th>29999</th>\n",
              "      <td>29999</td>\n",
              "      <td>80000</td>\n",
              "      <td>1</td>\n",
              "      <td>3</td>\n",
              "      <td>1</td>\n",
              "      <td>41</td>\n",
              "      <td>1</td>\n",
              "      <td>-1</td>\n",
              "      <td>0</td>\n",
              "      <td>0</td>\n",
              "      <td>0</td>\n",
              "      <td>-1</td>\n",
              "      <td>-1645</td>\n",
              "      <td>78379</td>\n",
              "      <td>76304</td>\n",
              "      <td>52774</td>\n",
              "      <td>11855</td>\n",
              "      <td>48944</td>\n",
              "      <td>85900</td>\n",
              "      <td>3409</td>\n",
              "      <td>1178</td>\n",
              "      <td>1926</td>\n",
              "      <td>52964</td>\n",
              "      <td>1804</td>\n",
              "      <td>1</td>\n",
              "    </tr>\n",
              "    <tr>\n",
              "      <th>30000</th>\n",
              "      <td>30000</td>\n",
              "      <td>50000</td>\n",
              "      <td>1</td>\n",
              "      <td>2</td>\n",
              "      <td>1</td>\n",
              "      <td>46</td>\n",
              "      <td>0</td>\n",
              "      <td>0</td>\n",
              "      <td>0</td>\n",
              "      <td>0</td>\n",
              "      <td>0</td>\n",
              "      <td>0</td>\n",
              "      <td>47929</td>\n",
              "      <td>48905</td>\n",
              "      <td>49764</td>\n",
              "      <td>36535</td>\n",
              "      <td>32428</td>\n",
              "      <td>15313</td>\n",
              "      <td>2078</td>\n",
              "      <td>1800</td>\n",
              "      <td>1430</td>\n",
              "      <td>1000</td>\n",
              "      <td>1000</td>\n",
              "      <td>1000</td>\n",
              "      <td>1</td>\n",
              "    </tr>\n",
              "  </tbody>\n",
              "</table>\n",
              "</div>\n",
              "      <button class=\"colab-df-convert\" onclick=\"convertToInteractive('df-6f20bf91-1719-4a74-bd8a-01606867d1b6')\"\n",
              "              title=\"Convert this dataframe to an interactive table.\"\n",
              "              style=\"display:none;\">\n",
              "        \n",
              "  <svg xmlns=\"http://www.w3.org/2000/svg\" height=\"24px\"viewBox=\"0 0 24 24\"\n",
              "       width=\"24px\">\n",
              "    <path d=\"M0 0h24v24H0V0z\" fill=\"none\"/>\n",
              "    <path d=\"M18.56 5.44l.94 2.06.94-2.06 2.06-.94-2.06-.94-.94-2.06-.94 2.06-2.06.94zm-11 1L8.5 8.5l.94-2.06 2.06-.94-2.06-.94L8.5 2.5l-.94 2.06-2.06.94zm10 10l.94 2.06.94-2.06 2.06-.94-2.06-.94-.94-2.06-.94 2.06-2.06.94z\"/><path d=\"M17.41 7.96l-1.37-1.37c-.4-.4-.92-.59-1.43-.59-.52 0-1.04.2-1.43.59L10.3 9.45l-7.72 7.72c-.78.78-.78 2.05 0 2.83L4 21.41c.39.39.9.59 1.41.59.51 0 1.02-.2 1.41-.59l7.78-7.78 2.81-2.81c.8-.78.8-2.07 0-2.86zM5.41 20L4 18.59l7.72-7.72 1.47 1.35L5.41 20z\"/>\n",
              "  </svg>\n",
              "      </button>\n",
              "      \n",
              "  <style>\n",
              "    .colab-df-container {\n",
              "      display:flex;\n",
              "      flex-wrap:wrap;\n",
              "      gap: 12px;\n",
              "    }\n",
              "\n",
              "    .colab-df-convert {\n",
              "      background-color: #E8F0FE;\n",
              "      border: none;\n",
              "      border-radius: 50%;\n",
              "      cursor: pointer;\n",
              "      display: none;\n",
              "      fill: #1967D2;\n",
              "      height: 32px;\n",
              "      padding: 0 0 0 0;\n",
              "      width: 32px;\n",
              "    }\n",
              "\n",
              "    .colab-df-convert:hover {\n",
              "      background-color: #E2EBFA;\n",
              "      box-shadow: 0px 1px 2px rgba(60, 64, 67, 0.3), 0px 1px 3px 1px rgba(60, 64, 67, 0.15);\n",
              "      fill: #174EA6;\n",
              "    }\n",
              "\n",
              "    [theme=dark] .colab-df-convert {\n",
              "      background-color: #3B4455;\n",
              "      fill: #D2E3FC;\n",
              "    }\n",
              "\n",
              "    [theme=dark] .colab-df-convert:hover {\n",
              "      background-color: #434B5C;\n",
              "      box-shadow: 0px 1px 3px 1px rgba(0, 0, 0, 0.15);\n",
              "      filter: drop-shadow(0px 1px 2px rgba(0, 0, 0, 0.3));\n",
              "      fill: #FFFFFF;\n",
              "    }\n",
              "  </style>\n",
              "\n",
              "      <script>\n",
              "        const buttonEl =\n",
              "          document.querySelector('#df-6f20bf91-1719-4a74-bd8a-01606867d1b6 button.colab-df-convert');\n",
              "        buttonEl.style.display =\n",
              "          google.colab.kernel.accessAllowed ? 'block' : 'none';\n",
              "\n",
              "        async function convertToInteractive(key) {\n",
              "          const element = document.querySelector('#df-6f20bf91-1719-4a74-bd8a-01606867d1b6');\n",
              "          const dataTable =\n",
              "            await google.colab.kernel.invokeFunction('convertToInteractive',\n",
              "                                                     [key], {});\n",
              "          if (!dataTable) return;\n",
              "\n",
              "          const docLinkHtml = 'Like what you see? Visit the ' +\n",
              "            '<a target=\"_blank\" href=https://colab.research.google.com/notebooks/data_table.ipynb>data table notebook</a>'\n",
              "            + ' to learn more about interactive tables.';\n",
              "          element.innerHTML = '';\n",
              "          dataTable['output_type'] = 'display_data';\n",
              "          await google.colab.output.renderOutput(dataTable, element);\n",
              "          const docLink = document.createElement('div');\n",
              "          docLink.innerHTML = docLinkHtml;\n",
              "          element.appendChild(docLink);\n",
              "        }\n",
              "      </script>\n",
              "    </div>\n",
              "  </div>\n",
              "  "
            ],
            "text/plain": [
              "0         ID LIMIT_BAL SEX  ... PAY_AMT5 PAY_AMT6 default payment next month\n",
              "29996  29996    220000   1  ...     5000     1000                          0\n",
              "29997  29997    150000   1  ...        0        0                          0\n",
              "29998  29998     30000   1  ...     2000     3100                          1\n",
              "29999  29999     80000   1  ...    52964     1804                          1\n",
              "30000  30000     50000   1  ...     1000     1000                          1\n",
              "\n",
              "[5 rows x 25 columns]"
            ]
          },
          "metadata": {},
          "execution_count": 11
        }
      ]
    },
    {
      "cell_type": "code",
      "source": [
        "df.shape"
      ],
      "metadata": {
        "colab": {
          "base_uri": "https://localhost:8080/"
        },
        "id": "kBOjtJHeGdgx",
        "outputId": "9f903e6c-60aa-4c4e-dc11-bb0ac0cac670"
      },
      "execution_count": 12,
      "outputs": [
        {
          "output_type": "execute_result",
          "data": {
            "text/plain": [
              "(30000, 25)"
            ]
          },
          "metadata": {},
          "execution_count": 12
        }
      ]
    },
    {
      "cell_type": "code",
      "source": [
        "df.columns"
      ],
      "metadata": {
        "colab": {
          "base_uri": "https://localhost:8080/"
        },
        "id": "TRRJjyTMGgUS",
        "outputId": "8d8ac9a7-860e-46ff-a5b4-960a04590f67"
      },
      "execution_count": 13,
      "outputs": [
        {
          "output_type": "execute_result",
          "data": {
            "text/plain": [
              "Index(['ID', 'LIMIT_BAL', 'SEX', 'EDUCATION', 'MARRIAGE', 'AGE', 'PAY_0',\n",
              "       'PAY_2', 'PAY_3', 'PAY_4', 'PAY_5', 'PAY_6', 'BILL_AMT1', 'BILL_AMT2',\n",
              "       'BILL_AMT3', 'BILL_AMT4', 'BILL_AMT5', 'BILL_AMT6', 'PAY_AMT1',\n",
              "       'PAY_AMT2', 'PAY_AMT3', 'PAY_AMT4', 'PAY_AMT5', 'PAY_AMT6',\n",
              "       'default payment next month'],\n",
              "      dtype='object', name=0)"
            ]
          },
          "metadata": {},
          "execution_count": 13
        }
      ]
    },
    {
      "cell_type": "code",
      "source": [
        "df.describe()"
      ],
      "metadata": {
        "colab": {
          "base_uri": "https://localhost:8080/",
          "height": 291
        },
        "id": "8RqTsLccGk6I",
        "outputId": "937e7609-8eae-4a7d-c14e-9d4238e05bad"
      },
      "execution_count": 14,
      "outputs": [
        {
          "output_type": "execute_result",
          "data": {
            "text/html": [
              "\n",
              "  <div id=\"df-d47ac8a7-1b55-4337-9c1c-32d15cc38fa3\">\n",
              "    <div class=\"colab-df-container\">\n",
              "      <div>\n",
              "<style scoped>\n",
              "    .dataframe tbody tr th:only-of-type {\n",
              "        vertical-align: middle;\n",
              "    }\n",
              "\n",
              "    .dataframe tbody tr th {\n",
              "        vertical-align: top;\n",
              "    }\n",
              "\n",
              "    .dataframe thead th {\n",
              "        text-align: right;\n",
              "    }\n",
              "</style>\n",
              "<table border=\"1\" class=\"dataframe\">\n",
              "  <thead>\n",
              "    <tr style=\"text-align: right;\">\n",
              "      <th></th>\n",
              "      <th>ID</th>\n",
              "      <th>LIMIT_BAL</th>\n",
              "      <th>SEX</th>\n",
              "      <th>EDUCATION</th>\n",
              "      <th>MARRIAGE</th>\n",
              "      <th>AGE</th>\n",
              "      <th>PAY_0</th>\n",
              "      <th>PAY_2</th>\n",
              "      <th>PAY_3</th>\n",
              "      <th>PAY_4</th>\n",
              "      <th>PAY_5</th>\n",
              "      <th>PAY_6</th>\n",
              "      <th>BILL_AMT1</th>\n",
              "      <th>BILL_AMT2</th>\n",
              "      <th>BILL_AMT3</th>\n",
              "      <th>BILL_AMT4</th>\n",
              "      <th>BILL_AMT5</th>\n",
              "      <th>BILL_AMT6</th>\n",
              "      <th>PAY_AMT1</th>\n",
              "      <th>PAY_AMT2</th>\n",
              "      <th>PAY_AMT3</th>\n",
              "      <th>PAY_AMT4</th>\n",
              "      <th>PAY_AMT5</th>\n",
              "      <th>PAY_AMT6</th>\n",
              "      <th>default payment next month</th>\n",
              "    </tr>\n",
              "  </thead>\n",
              "  <tbody>\n",
              "    <tr>\n",
              "      <th>count</th>\n",
              "      <td>30000</td>\n",
              "      <td>30000</td>\n",
              "      <td>30000</td>\n",
              "      <td>30000</td>\n",
              "      <td>30000</td>\n",
              "      <td>30000</td>\n",
              "      <td>30000</td>\n",
              "      <td>30000</td>\n",
              "      <td>30000</td>\n",
              "      <td>30000</td>\n",
              "      <td>30000</td>\n",
              "      <td>30000</td>\n",
              "      <td>30000</td>\n",
              "      <td>30000</td>\n",
              "      <td>30000</td>\n",
              "      <td>30000</td>\n",
              "      <td>30000</td>\n",
              "      <td>30000</td>\n",
              "      <td>30000</td>\n",
              "      <td>30000</td>\n",
              "      <td>30000</td>\n",
              "      <td>30000</td>\n",
              "      <td>30000</td>\n",
              "      <td>30000</td>\n",
              "      <td>30000</td>\n",
              "    </tr>\n",
              "    <tr>\n",
              "      <th>unique</th>\n",
              "      <td>30000</td>\n",
              "      <td>81</td>\n",
              "      <td>2</td>\n",
              "      <td>7</td>\n",
              "      <td>4</td>\n",
              "      <td>56</td>\n",
              "      <td>11</td>\n",
              "      <td>11</td>\n",
              "      <td>11</td>\n",
              "      <td>11</td>\n",
              "      <td>10</td>\n",
              "      <td>10</td>\n",
              "      <td>22723</td>\n",
              "      <td>22346</td>\n",
              "      <td>22026</td>\n",
              "      <td>21548</td>\n",
              "      <td>21010</td>\n",
              "      <td>20604</td>\n",
              "      <td>7943</td>\n",
              "      <td>7899</td>\n",
              "      <td>7518</td>\n",
              "      <td>6937</td>\n",
              "      <td>6897</td>\n",
              "      <td>6939</td>\n",
              "      <td>2</td>\n",
              "    </tr>\n",
              "    <tr>\n",
              "      <th>top</th>\n",
              "      <td>1</td>\n",
              "      <td>50000</td>\n",
              "      <td>2</td>\n",
              "      <td>2</td>\n",
              "      <td>2</td>\n",
              "      <td>29</td>\n",
              "      <td>0</td>\n",
              "      <td>0</td>\n",
              "      <td>0</td>\n",
              "      <td>0</td>\n",
              "      <td>0</td>\n",
              "      <td>0</td>\n",
              "      <td>0</td>\n",
              "      <td>0</td>\n",
              "      <td>0</td>\n",
              "      <td>0</td>\n",
              "      <td>0</td>\n",
              "      <td>0</td>\n",
              "      <td>0</td>\n",
              "      <td>0</td>\n",
              "      <td>0</td>\n",
              "      <td>0</td>\n",
              "      <td>0</td>\n",
              "      <td>0</td>\n",
              "      <td>0</td>\n",
              "    </tr>\n",
              "    <tr>\n",
              "      <th>freq</th>\n",
              "      <td>1</td>\n",
              "      <td>3365</td>\n",
              "      <td>18112</td>\n",
              "      <td>14030</td>\n",
              "      <td>15964</td>\n",
              "      <td>1605</td>\n",
              "      <td>14737</td>\n",
              "      <td>15730</td>\n",
              "      <td>15764</td>\n",
              "      <td>16455</td>\n",
              "      <td>16947</td>\n",
              "      <td>16286</td>\n",
              "      <td>2008</td>\n",
              "      <td>2506</td>\n",
              "      <td>2870</td>\n",
              "      <td>3195</td>\n",
              "      <td>3506</td>\n",
              "      <td>4020</td>\n",
              "      <td>5249</td>\n",
              "      <td>5396</td>\n",
              "      <td>5968</td>\n",
              "      <td>6408</td>\n",
              "      <td>6703</td>\n",
              "      <td>7173</td>\n",
              "      <td>23364</td>\n",
              "    </tr>\n",
              "  </tbody>\n",
              "</table>\n",
              "</div>\n",
              "      <button class=\"colab-df-convert\" onclick=\"convertToInteractive('df-d47ac8a7-1b55-4337-9c1c-32d15cc38fa3')\"\n",
              "              title=\"Convert this dataframe to an interactive table.\"\n",
              "              style=\"display:none;\">\n",
              "        \n",
              "  <svg xmlns=\"http://www.w3.org/2000/svg\" height=\"24px\"viewBox=\"0 0 24 24\"\n",
              "       width=\"24px\">\n",
              "    <path d=\"M0 0h24v24H0V0z\" fill=\"none\"/>\n",
              "    <path d=\"M18.56 5.44l.94 2.06.94-2.06 2.06-.94-2.06-.94-.94-2.06-.94 2.06-2.06.94zm-11 1L8.5 8.5l.94-2.06 2.06-.94-2.06-.94L8.5 2.5l-.94 2.06-2.06.94zm10 10l.94 2.06.94-2.06 2.06-.94-2.06-.94-.94-2.06-.94 2.06-2.06.94z\"/><path d=\"M17.41 7.96l-1.37-1.37c-.4-.4-.92-.59-1.43-.59-.52 0-1.04.2-1.43.59L10.3 9.45l-7.72 7.72c-.78.78-.78 2.05 0 2.83L4 21.41c.39.39.9.59 1.41.59.51 0 1.02-.2 1.41-.59l7.78-7.78 2.81-2.81c.8-.78.8-2.07 0-2.86zM5.41 20L4 18.59l7.72-7.72 1.47 1.35L5.41 20z\"/>\n",
              "  </svg>\n",
              "      </button>\n",
              "      \n",
              "  <style>\n",
              "    .colab-df-container {\n",
              "      display:flex;\n",
              "      flex-wrap:wrap;\n",
              "      gap: 12px;\n",
              "    }\n",
              "\n",
              "    .colab-df-convert {\n",
              "      background-color: #E8F0FE;\n",
              "      border: none;\n",
              "      border-radius: 50%;\n",
              "      cursor: pointer;\n",
              "      display: none;\n",
              "      fill: #1967D2;\n",
              "      height: 32px;\n",
              "      padding: 0 0 0 0;\n",
              "      width: 32px;\n",
              "    }\n",
              "\n",
              "    .colab-df-convert:hover {\n",
              "      background-color: #E2EBFA;\n",
              "      box-shadow: 0px 1px 2px rgba(60, 64, 67, 0.3), 0px 1px 3px 1px rgba(60, 64, 67, 0.15);\n",
              "      fill: #174EA6;\n",
              "    }\n",
              "\n",
              "    [theme=dark] .colab-df-convert {\n",
              "      background-color: #3B4455;\n",
              "      fill: #D2E3FC;\n",
              "    }\n",
              "\n",
              "    [theme=dark] .colab-df-convert:hover {\n",
              "      background-color: #434B5C;\n",
              "      box-shadow: 0px 1px 3px 1px rgba(0, 0, 0, 0.15);\n",
              "      filter: drop-shadow(0px 1px 2px rgba(0, 0, 0, 0.3));\n",
              "      fill: #FFFFFF;\n",
              "    }\n",
              "  </style>\n",
              "\n",
              "      <script>\n",
              "        const buttonEl =\n",
              "          document.querySelector('#df-d47ac8a7-1b55-4337-9c1c-32d15cc38fa3 button.colab-df-convert');\n",
              "        buttonEl.style.display =\n",
              "          google.colab.kernel.accessAllowed ? 'block' : 'none';\n",
              "\n",
              "        async function convertToInteractive(key) {\n",
              "          const element = document.querySelector('#df-d47ac8a7-1b55-4337-9c1c-32d15cc38fa3');\n",
              "          const dataTable =\n",
              "            await google.colab.kernel.invokeFunction('convertToInteractive',\n",
              "                                                     [key], {});\n",
              "          if (!dataTable) return;\n",
              "\n",
              "          const docLinkHtml = 'Like what you see? Visit the ' +\n",
              "            '<a target=\"_blank\" href=https://colab.research.google.com/notebooks/data_table.ipynb>data table notebook</a>'\n",
              "            + ' to learn more about interactive tables.';\n",
              "          element.innerHTML = '';\n",
              "          dataTable['output_type'] = 'display_data';\n",
              "          await google.colab.output.renderOutput(dataTable, element);\n",
              "          const docLink = document.createElement('div');\n",
              "          docLink.innerHTML = docLinkHtml;\n",
              "          element.appendChild(docLink);\n",
              "        }\n",
              "      </script>\n",
              "    </div>\n",
              "  </div>\n",
              "  "
            ],
            "text/plain": [
              "0          ID  LIMIT_BAL    SEX  ...  PAY_AMT5  PAY_AMT6  default payment next month\n",
              "count   30000      30000  30000  ...     30000     30000                       30000\n",
              "unique  30000         81      2  ...      6897      6939                           2\n",
              "top         1      50000      2  ...         0         0                           0\n",
              "freq        1       3365  18112  ...      6703      7173                       23364\n",
              "\n",
              "[4 rows x 25 columns]"
            ]
          },
          "metadata": {},
          "execution_count": 14
        }
      ]
    },
    {
      "cell_type": "code",
      "source": [
        "df.info()"
      ],
      "metadata": {
        "colab": {
          "base_uri": "https://localhost:8080/"
        },
        "id": "Vu8NIM7-HGwn",
        "outputId": "294d0b2a-bb62-4d0d-b80b-b3093c502a49"
      },
      "execution_count": 15,
      "outputs": [
        {
          "output_type": "stream",
          "name": "stdout",
          "text": [
            "<class 'pandas.core.frame.DataFrame'>\n",
            "RangeIndex: 30000 entries, 1 to 30000\n",
            "Data columns (total 25 columns):\n",
            " #   Column                      Non-Null Count  Dtype \n",
            "---  ------                      --------------  ----- \n",
            " 0   ID                          30000 non-null  object\n",
            " 1   LIMIT_BAL                   30000 non-null  object\n",
            " 2   SEX                         30000 non-null  object\n",
            " 3   EDUCATION                   30000 non-null  object\n",
            " 4   MARRIAGE                    30000 non-null  object\n",
            " 5   AGE                         30000 non-null  object\n",
            " 6   PAY_0                       30000 non-null  object\n",
            " 7   PAY_2                       30000 non-null  object\n",
            " 8   PAY_3                       30000 non-null  object\n",
            " 9   PAY_4                       30000 non-null  object\n",
            " 10  PAY_5                       30000 non-null  object\n",
            " 11  PAY_6                       30000 non-null  object\n",
            " 12  BILL_AMT1                   30000 non-null  object\n",
            " 13  BILL_AMT2                   30000 non-null  object\n",
            " 14  BILL_AMT3                   30000 non-null  object\n",
            " 15  BILL_AMT4                   30000 non-null  object\n",
            " 16  BILL_AMT5                   30000 non-null  object\n",
            " 17  BILL_AMT6                   30000 non-null  object\n",
            " 18  PAY_AMT1                    30000 non-null  object\n",
            " 19  PAY_AMT2                    30000 non-null  object\n",
            " 20  PAY_AMT3                    30000 non-null  object\n",
            " 21  PAY_AMT4                    30000 non-null  object\n",
            " 22  PAY_AMT5                    30000 non-null  object\n",
            " 23  PAY_AMT6                    30000 non-null  object\n",
            " 24  default payment next month  30000 non-null  object\n",
            "dtypes: object(25)\n",
            "memory usage: 5.7+ MB\n"
          ]
        }
      ]
    },
    {
      "cell_type": "code",
      "source": [
        "df.isna().sum()"
      ],
      "metadata": {
        "colab": {
          "base_uri": "https://localhost:8080/"
        },
        "id": "l_TUAV7jIx3i",
        "outputId": "9c05f428-f70b-4ad1-b9ca-cc4bc427945c"
      },
      "execution_count": 16,
      "outputs": [
        {
          "output_type": "execute_result",
          "data": {
            "text/plain": [
              "0\n",
              "ID                            0\n",
              "LIMIT_BAL                     0\n",
              "SEX                           0\n",
              "EDUCATION                     0\n",
              "MARRIAGE                      0\n",
              "AGE                           0\n",
              "PAY_0                         0\n",
              "PAY_2                         0\n",
              "PAY_3                         0\n",
              "PAY_4                         0\n",
              "PAY_5                         0\n",
              "PAY_6                         0\n",
              "BILL_AMT1                     0\n",
              "BILL_AMT2                     0\n",
              "BILL_AMT3                     0\n",
              "BILL_AMT4                     0\n",
              "BILL_AMT5                     0\n",
              "BILL_AMT6                     0\n",
              "PAY_AMT1                      0\n",
              "PAY_AMT2                      0\n",
              "PAY_AMT3                      0\n",
              "PAY_AMT4                      0\n",
              "PAY_AMT5                      0\n",
              "PAY_AMT6                      0\n",
              "default payment next month    0\n",
              "dtype: int64"
            ]
          },
          "metadata": {},
          "execution_count": 16
        }
      ]
    },
    {
      "cell_type": "code",
      "source": [
        "default_type = df['default payment next month'].value_counts()\n",
        "plt.figure(figsize=(10, 6))\n",
        "ax = default_type.plot(kind='bar', rot=0, color=sns.color_palette('husl'))\n",
        "ax.set_title(\"Bar graph of Default Type\", y = 1, fontsize=20)\n",
        "plt.xlabel('Default Payment', fontsize=14)\n",
        "plt.ylabel('Number of Customer', fontsize=14)\n",
        "plt.xticks([0,1],['No','Yes'])\n",
        "\n",
        "for rect in ax.patches:\n",
        "    y_value = rect.get_height()\n",
        "    x_value = rect.get_x() + rect.get_width() / 2\n",
        "    space = 1\n",
        "    label = \"{:.0f}\".format(y_value)\n",
        "    ax.annotate(label, (x_value, y_value), xytext=(0, space), textcoords=\"offset points\", ha='center', va='bottom')\n",
        "plt.show()"
      ],
      "metadata": {
        "colab": {
          "base_uri": "https://localhost:8080/",
          "height": 413
        },
        "id": "DhzhxDbRRlmO",
        "outputId": "e52ef9d2-ff68-4876-c10f-168aac8bfb90"
      },
      "execution_count": 17,
      "outputs": [
        {
          "output_type": "display_data",
          "data": {
            "image/png": "[encoded data removed]",
            "text/plain": [
              "<Figure size 720x432 with 1 Axes>"
            ]
          },
          "metadata": {
            "needs_background": "light"
          }
        }
      ]
    },
    {
      "cell_type": "code",
      "source": [
        "default_type = df['SEX'].value_counts()\n",
        "plt.figure(figsize=(10, 6))\n",
        "ax = default_type.plot(kind='bar', rot=0, color=sns.color_palette('Spectral'))\n",
        "ax.set_title(\"Bar graph of SEX\", y = 1, fontsize=20)\n",
        "plt.xlabel('SEX', fontsize=14)\n",
        "plt.ylabel('Number of Customer', fontsize=14)\n",
        "plt.xticks([0,1],['Male','Female'])\n",
        "\n",
        "for rect in ax.patches:\n",
        "    y_value = rect.get_height()\n",
        "    x_value = rect.get_x() + rect.get_width() / 2\n",
        "    space = 1\n",
        "    label = \"{:.0f}\".format(y_value)\n",
        "    ax.annotate(label, (x_value, y_value), xytext=(0, space), textcoords=\"offset points\", ha='center', va='bottom')\n",
        "plt.show()"
      ],
      "metadata": {
        "colab": {
          "base_uri": "https://localhost:8080/",
          "height": 413
        },
        "id": "hy9qr93ZdaTa",
        "outputId": "2d0a75b3-1a48-4e30-e757-c76000bfecd5"
      },
      "execution_count": 18,
      "outputs": [
        {
          "output_type": "display_data",
          "data": {
            "image/png": "[encoded data removed]",
            "text/plain": [
              "<Figure size 720x432 with 1 Axes>"
            ]
          },
          "metadata": {
            "needs_background": "light"
          }
        }
      ]
    },
    {
      "cell_type": "code",
      "source": [
        "sns.distplot(df['AGE'])"
      ],
      "metadata": {
        "colab": {
          "base_uri": "https://localhost:8080/",
          "height": 297
        },
        "id": "aLopI8wvlw8b",
        "outputId": "ce150b3e-c18b-4bec-aa95-4e84c547675f"
      },
      "execution_count": 19,
      "outputs": [
        {
          "output_type": "execute_result",
          "data": {
            "text/plain": [
              "<matplotlib.axes._subplots.AxesSubplot at 0x7f30521c26d0>"
            ]
          },
          "metadata": {},
          "execution_count": 19
        },
        {
          "output_type": "display_data",
          "data": {
            "image/png": "[encoded data removed]",
            "text/plain": [
              "<Figure size 432x288 with 1 Axes>"
            ]
          },
          "metadata": {
            "needs_background": "light"
          }
        }
      ]
    },
    {
      "cell_type": "code",
      "source": [
        "default_type = df['EDUCATION'].value_counts()\n",
        "plt.figure(figsize=(10, 6))\n",
        "ax = default_type.plot(kind='bar', rot=0, color=sns.color_palette('husl'))\n",
        "ax.set_title(\"Bar graph of EDUCATION\", y = 1, fontsize=20)\n",
        "plt.xlabel('EDUCATION', fontsize=14)\n",
        "plt.ylabel('Number of Customer', fontsize=14)\n",
        "# 1 = graduate school; 2 = university; 3 = high school; 4 = others\n",
        "plt.xticks([0,1,2,3,4,5,6],['University','Graduate School', 'High School', 'Other', 'Other', 'Other', 'Other'])\n",
        "\n",
        "for rect in ax.patches:\n",
        "    y_value = rect.get_height()\n",
        "    x_value = rect.get_x() + rect.get_width() / 2\n",
        "    space = 1\n",
        "    label = \"{:.0f}\".format(y_value)\n",
        "    ax.annotate(label, (x_value, y_value), xytext=(0, space), textcoords=\"offset points\", ha='center', va='bottom')\n",
        "plt.show()"
      ],
      "metadata": {
        "colab": {
          "base_uri": "https://localhost:8080/",
          "height": 413
        },
        "id": "LJukGkx7hHMO",
        "outputId": "1535c751-770c-4247-d87d-9961eadbd021"
      },
      "execution_count": 20,
      "outputs": [
        {
          "output_type": "display_data",
          "data": {
            "image/png": "[encoded data removed]",
            "text/plain": [
              "<Figure size 720x432 with 1 Axes>"
            ]
          },
          "metadata": {
            "needs_background": "light"
          }
        }
      ]
    },
    {
      "cell_type": "code",
      "source": [
        "default_type = df['MARRIAGE'].value_counts()\n",
        "plt.figure(figsize=(10, 6))\n",
        "ax = default_type.plot(kind='bar', rot=0, color=sns.color_palette('husl'))\n",
        "ax.set_title(\"Bar graph of MARITAL STATUS\", y = 1, fontsize=20)\n",
        "plt.xlabel('STATUS', fontsize=14)\n",
        "plt.ylabel('Number of Customer', fontsize=14)\n",
        "plt.xticks([0,1,2,3],['Single','Married','Other','Other'])\n",
        "\n",
        "for rect in ax.patches:\n",
        "    y_value = rect.get_height()\n",
        "    x_value = rect.get_x() + rect.get_width() / 2\n",
        "    space = 1\n",
        "    label = \"{:.0f}\".format(y_value)\n",
        "    ax.annotate(label, (x_value, y_value), xytext=(0, space), textcoords=\"offset points\", ha='center', va='bottom')\n",
        "plt.show()"
      ],
      "metadata": {
        "colab": {
          "base_uri": "https://localhost:8080/",
          "height": 413
        },
        "id": "m9QQP8RnmNh6",
        "outputId": "d721dfbc-38a3-4333-dd30-3793bb46a52c"
      },
      "execution_count": 21,
      "outputs": [
        {
          "output_type": "display_data",
          "data": {
            "image/png": "[encoded data removed]",
            "text/plain": [
              "<Figure size 720x432 with 1 Axes>"
            ]
          },
          "metadata": {
            "needs_background": "light"
          }
        }
      ]
    },
    {
      "cell_type": "code",
      "source": [
        "sns.set_style('ticks')\n",
        "plt.figure(figsize=(10,7))\n",
        "sns.countplot(data = df, x = 'default payment next month', hue='SEX', palette=\"Spectral\")\n",
        "plt.xlabel(\"default payment next month\", fontsize=14)\n",
        "plt.ylabel(\"Number of Customers\", fontsize=14)\n",
        "plt.xticks([0,1],['NO','YES'])\n",
        "plt.legend(['Male','female'],prop={'size':20})"
      ],
      "metadata": {
        "colab": {
          "base_uri": "https://localhost:8080/",
          "height": 464
        },
        "id": "WMKqm0J4TgSv",
        "outputId": "e19d39db-2ac3-4883-bf8d-3ea1264c4d3d"
      },
      "execution_count": 22,
      "outputs": [
        {
          "output_type": "execute_result",
          "data": {
            "text/plain": [
              "<matplotlib.legend.Legend at 0x7f3050ace5d0>"
            ]
          },
          "metadata": {},
          "execution_count": 22
        },
        {
          "output_type": "display_data",
          "data": {
            "image/png": "[encoded data removed]",
            "text/plain": [
              "<Figure size 720x504 with 1 Axes>"
            ]
          },
          "metadata": {}
        }
      ]
    },
    {
      "cell_type": "code",
      "source": [
        "sns.set_style('ticks')\n",
        "plt.figure(figsize=(10,7))\n",
        "sns.countplot(data = df, x = 'EDUCATION', hue='default payment next month', palette=\"Spectral\")\n",
        "plt.xlabel(\"EDUCATION\", fontsize=14)\n",
        "plt.ylabel(\"Number of Customers\", fontsize=14)"
      ],
      "metadata": {
        "colab": {
          "base_uri": "https://localhost:8080/",
          "height": 464
        },
        "id": "Y7kYx_eSm5OZ",
        "outputId": "014783c7-2f35-4794-91b0-4559a269ab00"
      },
      "execution_count": 23,
      "outputs": [
        {
          "output_type": "execute_result",
          "data": {
            "text/plain": [
              "Text(0, 0.5, 'Number of Customers')"
            ]
          },
          "metadata": {},
          "execution_count": 23
        },
        {
          "output_type": "display_data",
          "data": {
            "image/png": "[encoded data removed]",
            "text/plain": [
              "<Figure size 720x504 with 1 Axes>"
            ]
          },
          "metadata": {}
        }
      ]
    },
    {
      "cell_type": "markdown",
      "source": [
        "#DATA PRE-PROCESSING"
      ],
      "metadata": {
        "id": "5YLkmx7L_7G6"
      }
    },
    {
      "cell_type": "code",
      "source": [
        "df=df.apply(pd.to_numeric)"
      ],
      "metadata": {
        "id": "XoW1IObn6khX"
      },
      "execution_count": 24,
      "outputs": []
    },
    {
      "cell_type": "code",
      "source": [
        "df.info()"
      ],
      "metadata": {
        "colab": {
          "base_uri": "https://localhost:8080/"
        },
        "id": "7uC7duvV6pKu",
        "outputId": "66198c29-dbe2-4b6d-ec9e-6ec547ba1854"
      },
      "execution_count": 25,
      "outputs": [
        {
          "output_type": "stream",
          "name": "stdout",
          "text": [
            "<class 'pandas.core.frame.DataFrame'>\n",
            "RangeIndex: 30000 entries, 1 to 30000\n",
            "Data columns (total 25 columns):\n",
            " #   Column                      Non-Null Count  Dtype\n",
            "---  ------                      --------------  -----\n",
            " 0   ID                          30000 non-null  int64\n",
            " 1   LIMIT_BAL                   30000 non-null  int64\n",
            " 2   SEX                         30000 non-null  int64\n",
            " 3   EDUCATION                   30000 non-null  int64\n",
            " 4   MARRIAGE                    30000 non-null  int64\n",
            " 5   AGE                         30000 non-null  int64\n",
            " 6   PAY_0                       30000 non-null  int64\n",
            " 7   PAY_2                       30000 non-null  int64\n",
            " 8   PAY_3                       30000 non-null  int64\n",
            " 9   PAY_4                       30000 non-null  int64\n",
            " 10  PAY_5                       30000 non-null  int64\n",
            " 11  PAY_6                       30000 non-null  int64\n",
            " 12  BILL_AMT1                   30000 non-null  int64\n",
            " 13  BILL_AMT2                   30000 non-null  int64\n",
            " 14  BILL_AMT3                   30000 non-null  int64\n",
            " 15  BILL_AMT4                   30000 non-null  int64\n",
            " 16  BILL_AMT5                   30000 non-null  int64\n",
            " 17  BILL_AMT6                   30000 non-null  int64\n",
            " 18  PAY_AMT1                    30000 non-null  int64\n",
            " 19  PAY_AMT2                    30000 non-null  int64\n",
            " 20  PAY_AMT3                    30000 non-null  int64\n",
            " 21  PAY_AMT4                    30000 non-null  int64\n",
            " 22  PAY_AMT5                    30000 non-null  int64\n",
            " 23  PAY_AMT6                    30000 non-null  int64\n",
            " 24  default payment next month  30000 non-null  int64\n",
            "dtypes: int64(25)\n",
            "memory usage: 5.7 MB\n"
          ]
        }
      ]
    },
    {
      "cell_type": "code",
      "source": [
        "df.drop('ID', axis=1, inplace=True) #Dropping ID"
      ],
      "metadata": {
        "id": "FrHLpie6_--D"
      },
      "execution_count": 26,
      "outputs": []
    },
    {
      "cell_type": "code",
      "source": [
        "list_of_columns=['PAY_0', 'PAY_2','PAY_3', 'PAY_4', 'PAY_5', 'PAY_6']\n",
        "for i in list_of_columns:\n",
        "  df[i]=df[i].apply(lambda x: 0 if x<0 else x)"
      ],
      "metadata": {
        "id": "OeTE8IAG4H_o"
      },
      "execution_count": 27,
      "outputs": []
    },
    {
      "cell_type": "code",
      "source": [
        "df['MARRIAGE'] = df['MARRIAGE'].apply(lambda x: 3 if x==0 else x)"
      ],
      "metadata": {
        "id": "GFbaNS-F5j8Y"
      },
      "execution_count": 28,
      "outputs": []
    },
    {
      "cell_type": "code",
      "source": [
        "df['EDUCATION'] = df['EDUCATION'].apply(lambda x: 4 if x!=1 and x!=2 and x!=3 else x)"
      ],
      "metadata": {
        "id": "k7WAuOxC55x4"
      },
      "execution_count": 29,
      "outputs": []
    },
    {
      "cell_type": "markdown",
      "source": [
        "plotting heatmap to check Correlation"
      ],
      "metadata": {
        "id": "rDUUe8CzAqyA"
      }
    },
    {
      "cell_type": "code",
      "source": [
        "df.corr()"
      ],
      "metadata": {
        "colab": {
          "base_uri": "https://localhost:8080/",
          "height": 984
        },
        "id": "flBe9gdSDGu2",
        "outputId": "6580072d-a1b7-4e78-e167-7158c291aff9"
      },
      "execution_count": 30,
      "outputs": [
        {
          "output_type": "execute_result",
          "data": {
            "text/html": [
              "\n",
              "  <div id=\"df-380b5840-a0d7-4fd3-8b61-f33d3f98f798\">\n",
              "    <div class=\"colab-df-container\">\n",
              "      <div>\n",
              "<style scoped>\n",
              "    .dataframe tbody tr th:only-of-type {\n",
              "        vertical-align: middle;\n",
              "    }\n",
              "\n",
              "    .dataframe tbody tr th {\n",
              "        vertical-align: top;\n",
              "    }\n",
              "\n",
              "    .dataframe thead th {\n",
              "        text-align: right;\n",
              "    }\n",
              "</style>\n",
              "<table border=\"1\" class=\"dataframe\">\n",
              "  <thead>\n",
              "    <tr style=\"text-align: right;\">\n",
              "      <th></th>\n",
              "      <th>LIMIT_BAL</th>\n",
              "      <th>SEX</th>\n",
              "      <th>EDUCATION</th>\n",
              "      <th>MARRIAGE</th>\n",
              "      <th>AGE</th>\n",
              "      <th>PAY_0</th>\n",
              "      <th>PAY_2</th>\n",
              "      <th>PAY_3</th>\n",
              "      <th>PAY_4</th>\n",
              "      <th>PAY_5</th>\n",
              "      <th>PAY_6</th>\n",
              "      <th>BILL_AMT1</th>\n",
              "      <th>BILL_AMT2</th>\n",
              "      <th>BILL_AMT3</th>\n",
              "      <th>BILL_AMT4</th>\n",
              "      <th>BILL_AMT5</th>\n",
              "      <th>BILL_AMT6</th>\n",
              "      <th>PAY_AMT1</th>\n",
              "      <th>PAY_AMT2</th>\n",
              "      <th>PAY_AMT3</th>\n",
              "      <th>PAY_AMT4</th>\n",
              "      <th>PAY_AMT5</th>\n",
              "      <th>PAY_AMT6</th>\n",
              "      <th>default payment next month</th>\n",
              "    </tr>\n",
              "    <tr>\n",
              "      <th>0</th>\n",
              "      <th></th>\n",
              "      <th></th>\n",
              "      <th></th>\n",
              "      <th></th>\n",
              "      <th></th>\n",
              "      <th></th>\n",
              "      <th></th>\n",
              "      <th></th>\n",
              "      <th></th>\n",
              "      <th></th>\n",
              "      <th></th>\n",
              "      <th></th>\n",
              "      <th></th>\n",
              "      <th></th>\n",
              "      <th></th>\n",
              "      <th></th>\n",
              "      <th></th>\n",
              "      <th></th>\n",
              "      <th></th>\n",
              "      <th></th>\n",
              "      <th></th>\n",
              "      <th></th>\n",
              "      <th></th>\n",
              "      <th></th>\n",
              "    </tr>\n",
              "  </thead>\n",
              "  <tbody>\n",
              "    <tr>\n",
              "      <th>LIMIT_BAL</th>\n",
              "      <td>1.000000</td>\n",
              "      <td>0.024755</td>\n",
              "      <td>-0.231088</td>\n",
              "      <td>-0.111012</td>\n",
              "      <td>0.144713</td>\n",
              "      <td>-0.170745</td>\n",
              "      <td>-0.197136</td>\n",
              "      <td>-0.191323</td>\n",
              "      <td>-0.180629</td>\n",
              "      <td>-0.170045</td>\n",
              "      <td>-0.167820</td>\n",
              "      <td>0.285430</td>\n",
              "      <td>0.278314</td>\n",
              "      <td>0.283236</td>\n",
              "      <td>0.293988</td>\n",
              "      <td>0.295562</td>\n",
              "      <td>0.290389</td>\n",
              "      <td>0.195236</td>\n",
              "      <td>0.178408</td>\n",
              "      <td>0.210167</td>\n",
              "      <td>0.203242</td>\n",
              "      <td>0.217202</td>\n",
              "      <td>0.219595</td>\n",
              "      <td>-0.153520</td>\n",
              "    </tr>\n",
              "    <tr>\n",
              "      <th>SEX</th>\n",
              "      <td>0.024755</td>\n",
              "      <td>1.000000</td>\n",
              "      <td>0.013627</td>\n",
              "      <td>-0.028522</td>\n",
              "      <td>-0.090874</td>\n",
              "      <td>-0.034475</td>\n",
              "      <td>-0.044750</td>\n",
              "      <td>-0.041227</td>\n",
              "      <td>-0.039737</td>\n",
              "      <td>-0.038533</td>\n",
              "      <td>-0.032061</td>\n",
              "      <td>-0.033642</td>\n",
              "      <td>-0.031183</td>\n",
              "      <td>-0.024563</td>\n",
              "      <td>-0.021880</td>\n",
              "      <td>-0.017005</td>\n",
              "      <td>-0.016733</td>\n",
              "      <td>-0.000242</td>\n",
              "      <td>-0.001391</td>\n",
              "      <td>-0.008597</td>\n",
              "      <td>-0.002229</td>\n",
              "      <td>-0.001667</td>\n",
              "      <td>-0.002766</td>\n",
              "      <td>-0.039961</td>\n",
              "    </tr>\n",
              "    <tr>\n",
              "      <th>EDUCATION</th>\n",
              "      <td>-0.231088</td>\n",
              "      <td>0.013627</td>\n",
              "      <td>1.000000</td>\n",
              "      <td>-0.136797</td>\n",
              "      <td>0.182434</td>\n",
              "      <td>0.055937</td>\n",
              "      <td>0.062739</td>\n",
              "      <td>0.053058</td>\n",
              "      <td>0.051209</td>\n",
              "      <td>0.039623</td>\n",
              "      <td>0.028670</td>\n",
              "      <td>0.016597</td>\n",
              "      <td>0.011980</td>\n",
              "      <td>0.006714</td>\n",
              "      <td>-0.006131</td>\n",
              "      <td>-0.012439</td>\n",
              "      <td>-0.012646</td>\n",
              "      <td>-0.041088</td>\n",
              "      <td>-0.032793</td>\n",
              "      <td>-0.044293</td>\n",
              "      <td>-0.040949</td>\n",
              "      <td>-0.045138</td>\n",
              "      <td>-0.044061</td>\n",
              "      <td>0.033842</td>\n",
              "    </tr>\n",
              "    <tr>\n",
              "      <th>MARRIAGE</th>\n",
              "      <td>-0.111012</td>\n",
              "      <td>-0.028522</td>\n",
              "      <td>-0.136797</td>\n",
              "      <td>1.000000</td>\n",
              "      <td>-0.412001</td>\n",
              "      <td>-0.011551</td>\n",
              "      <td>-0.009275</td>\n",
              "      <td>0.002556</td>\n",
              "      <td>-0.003029</td>\n",
              "      <td>-0.002497</td>\n",
              "      <td>0.002793</td>\n",
              "      <td>-0.027832</td>\n",
              "      <td>-0.025294</td>\n",
              "      <td>-0.029082</td>\n",
              "      <td>-0.027274</td>\n",
              "      <td>-0.029270</td>\n",
              "      <td>-0.025066</td>\n",
              "      <td>-0.004653</td>\n",
              "      <td>-0.009513</td>\n",
              "      <td>-0.004250</td>\n",
              "      <td>-0.013970</td>\n",
              "      <td>-0.003019</td>\n",
              "      <td>-0.008383</td>\n",
              "      <td>-0.027575</td>\n",
              "    </tr>\n",
              "    <tr>\n",
              "      <th>AGE</th>\n",
              "      <td>0.144713</td>\n",
              "      <td>-0.090874</td>\n",
              "      <td>0.182434</td>\n",
              "      <td>-0.412001</td>\n",
              "      <td>1.000000</td>\n",
              "      <td>-0.001447</td>\n",
              "      <td>-0.008774</td>\n",
              "      <td>-0.014266</td>\n",
              "      <td>-0.007288</td>\n",
              "      <td>-0.013277</td>\n",
              "      <td>-0.016948</td>\n",
              "      <td>0.056239</td>\n",
              "      <td>0.054283</td>\n",
              "      <td>0.053710</td>\n",
              "      <td>0.051353</td>\n",
              "      <td>0.049345</td>\n",
              "      <td>0.047613</td>\n",
              "      <td>0.026147</td>\n",
              "      <td>0.021785</td>\n",
              "      <td>0.029247</td>\n",
              "      <td>0.021379</td>\n",
              "      <td>0.022850</td>\n",
              "      <td>0.019478</td>\n",
              "      <td>0.013890</td>\n",
              "    </tr>\n",
              "    <tr>\n",
              "      <th>PAY_0</th>\n",
              "      <td>-0.170745</td>\n",
              "      <td>-0.034475</td>\n",
              "      <td>0.055937</td>\n",
              "      <td>-0.011551</td>\n",
              "      <td>-0.001447</td>\n",
              "      <td>1.000000</td>\n",
              "      <td>0.698389</td>\n",
              "      <td>0.516970</td>\n",
              "      <td>0.460224</td>\n",
              "      <td>0.424473</td>\n",
              "      <td>0.373805</td>\n",
              "      <td>-0.000819</td>\n",
              "      <td>0.009137</td>\n",
              "      <td>0.013307</td>\n",
              "      <td>0.022100</td>\n",
              "      <td>0.030731</td>\n",
              "      <td>0.030201</td>\n",
              "      <td>-0.079177</td>\n",
              "      <td>-0.057189</td>\n",
              "      <td>-0.062620</td>\n",
              "      <td>-0.061886</td>\n",
              "      <td>-0.053784</td>\n",
              "      <td>-0.048733</td>\n",
              "      <td>0.396019</td>\n",
              "    </tr>\n",
              "    <tr>\n",
              "      <th>PAY_2</th>\n",
              "      <td>-0.197136</td>\n",
              "      <td>-0.044750</td>\n",
              "      <td>0.062739</td>\n",
              "      <td>-0.009275</td>\n",
              "      <td>-0.008774</td>\n",
              "      <td>0.698389</td>\n",
              "      <td>1.000000</td>\n",
              "      <td>0.663529</td>\n",
              "      <td>0.512773</td>\n",
              "      <td>0.462717</td>\n",
              "      <td>0.407086</td>\n",
              "      <td>0.011684</td>\n",
              "      <td>0.015932</td>\n",
              "      <td>0.022950</td>\n",
              "      <td>0.032467</td>\n",
              "      <td>0.040422</td>\n",
              "      <td>0.042222</td>\n",
              "      <td>-0.097475</td>\n",
              "      <td>-0.054838</td>\n",
              "      <td>-0.059865</td>\n",
              "      <td>-0.053981</td>\n",
              "      <td>-0.048714</td>\n",
              "      <td>-0.043099</td>\n",
              "      <td>0.327093</td>\n",
              "    </tr>\n",
              "    <tr>\n",
              "      <th>PAY_3</th>\n",
              "      <td>-0.191323</td>\n",
              "      <td>-0.041227</td>\n",
              "      <td>0.053058</td>\n",
              "      <td>0.002556</td>\n",
              "      <td>-0.014266</td>\n",
              "      <td>0.516970</td>\n",
              "      <td>0.663529</td>\n",
              "      <td>1.000000</td>\n",
              "      <td>0.678931</td>\n",
              "      <td>0.551430</td>\n",
              "      <td>0.492827</td>\n",
              "      <td>-0.020586</td>\n",
              "      <td>-0.000968</td>\n",
              "      <td>0.002447</td>\n",
              "      <td>0.016579</td>\n",
              "      <td>0.026196</td>\n",
              "      <td>0.028979</td>\n",
              "      <td>-0.039356</td>\n",
              "      <td>-0.073670</td>\n",
              "      <td>-0.057702</td>\n",
              "      <td>-0.053849</td>\n",
              "      <td>-0.050805</td>\n",
              "      <td>-0.048443</td>\n",
              "      <td>0.286999</td>\n",
              "    </tr>\n",
              "    <tr>\n",
              "      <th>PAY_4</th>\n",
              "      <td>-0.180629</td>\n",
              "      <td>-0.039737</td>\n",
              "      <td>0.051209</td>\n",
              "      <td>-0.003029</td>\n",
              "      <td>-0.007288</td>\n",
              "      <td>0.460224</td>\n",
              "      <td>0.512773</td>\n",
              "      <td>0.678931</td>\n",
              "      <td>1.000000</td>\n",
              "      <td>0.745419</td>\n",
              "      <td>0.602875</td>\n",
              "      <td>-0.025184</td>\n",
              "      <td>-0.012569</td>\n",
              "      <td>0.002670</td>\n",
              "      <td>0.014654</td>\n",
              "      <td>0.027239</td>\n",
              "      <td>0.033138</td>\n",
              "      <td>-0.054484</td>\n",
              "      <td>-0.036877</td>\n",
              "      <td>-0.074064</td>\n",
              "      <td>-0.055305</td>\n",
              "      <td>-0.052732</td>\n",
              "      <td>-0.048828</td>\n",
              "      <td>0.269055</td>\n",
              "    </tr>\n",
              "    <tr>\n",
              "      <th>PAY_5</th>\n",
              "      <td>-0.170045</td>\n",
              "      <td>-0.038533</td>\n",
              "      <td>0.039623</td>\n",
              "      <td>-0.002497</td>\n",
              "      <td>-0.013277</td>\n",
              "      <td>0.424473</td>\n",
              "      <td>0.462717</td>\n",
              "      <td>0.551430</td>\n",
              "      <td>0.745419</td>\n",
              "      <td>1.000000</td>\n",
              "      <td>0.740357</td>\n",
              "      <td>-0.018581</td>\n",
              "      <td>-0.008614</td>\n",
              "      <td>0.003377</td>\n",
              "      <td>0.024139</td>\n",
              "      <td>0.036216</td>\n",
              "      <td>0.042616</td>\n",
              "      <td>-0.053692</td>\n",
              "      <td>-0.039586</td>\n",
              "      <td>-0.037270</td>\n",
              "      <td>-0.065943</td>\n",
              "      <td>-0.051815</td>\n",
              "      <td>-0.046110</td>\n",
              "      <td>0.260850</td>\n",
              "    </tr>\n",
              "    <tr>\n",
              "      <th>PAY_6</th>\n",
              "      <td>-0.167820</td>\n",
              "      <td>-0.032061</td>\n",
              "      <td>0.028670</td>\n",
              "      <td>0.002793</td>\n",
              "      <td>-0.016948</td>\n",
              "      <td>0.373805</td>\n",
              "      <td>0.407086</td>\n",
              "      <td>0.492827</td>\n",
              "      <td>0.602875</td>\n",
              "      <td>0.740357</td>\n",
              "      <td>1.000000</td>\n",
              "      <td>-0.019581</td>\n",
              "      <td>-0.009790</td>\n",
              "      <td>0.001691</td>\n",
              "      <td>0.020598</td>\n",
              "      <td>0.041785</td>\n",
              "      <td>0.046012</td>\n",
              "      <td>-0.047804</td>\n",
              "      <td>-0.039868</td>\n",
              "      <td>-0.040160</td>\n",
              "      <td>-0.030460</td>\n",
              "      <td>-0.066875</td>\n",
              "      <td>-0.045358</td>\n",
              "      <td>0.244437</td>\n",
              "    </tr>\n",
              "    <tr>\n",
              "      <th>BILL_AMT1</th>\n",
              "      <td>0.285430</td>\n",
              "      <td>-0.033642</td>\n",
              "      <td>0.016597</td>\n",
              "      <td>-0.027832</td>\n",
              "      <td>0.056239</td>\n",
              "      <td>-0.000819</td>\n",
              "      <td>0.011684</td>\n",
              "      <td>-0.020586</td>\n",
              "      <td>-0.025184</td>\n",
              "      <td>-0.018581</td>\n",
              "      <td>-0.019581</td>\n",
              "      <td>1.000000</td>\n",
              "      <td>0.951484</td>\n",
              "      <td>0.892279</td>\n",
              "      <td>0.860272</td>\n",
              "      <td>0.829779</td>\n",
              "      <td>0.802650</td>\n",
              "      <td>0.140277</td>\n",
              "      <td>0.099355</td>\n",
              "      <td>0.156887</td>\n",
              "      <td>0.158303</td>\n",
              "      <td>0.167026</td>\n",
              "      <td>0.179341</td>\n",
              "      <td>-0.019644</td>\n",
              "    </tr>\n",
              "    <tr>\n",
              "      <th>BILL_AMT2</th>\n",
              "      <td>0.278314</td>\n",
              "      <td>-0.031183</td>\n",
              "      <td>0.011980</td>\n",
              "      <td>-0.025294</td>\n",
              "      <td>0.054283</td>\n",
              "      <td>0.009137</td>\n",
              "      <td>0.015932</td>\n",
              "      <td>-0.000968</td>\n",
              "      <td>-0.012569</td>\n",
              "      <td>-0.008614</td>\n",
              "      <td>-0.009790</td>\n",
              "      <td>0.951484</td>\n",
              "      <td>1.000000</td>\n",
              "      <td>0.928326</td>\n",
              "      <td>0.892482</td>\n",
              "      <td>0.859778</td>\n",
              "      <td>0.831594</td>\n",
              "      <td>0.280365</td>\n",
              "      <td>0.100851</td>\n",
              "      <td>0.150718</td>\n",
              "      <td>0.147398</td>\n",
              "      <td>0.157957</td>\n",
              "      <td>0.174256</td>\n",
              "      <td>-0.014193</td>\n",
              "    </tr>\n",
              "    <tr>\n",
              "      <th>BILL_AMT3</th>\n",
              "      <td>0.283236</td>\n",
              "      <td>-0.024563</td>\n",
              "      <td>0.006714</td>\n",
              "      <td>-0.029082</td>\n",
              "      <td>0.053710</td>\n",
              "      <td>0.013307</td>\n",
              "      <td>0.022950</td>\n",
              "      <td>0.002447</td>\n",
              "      <td>0.002670</td>\n",
              "      <td>0.003377</td>\n",
              "      <td>0.001691</td>\n",
              "      <td>0.892279</td>\n",
              "      <td>0.928326</td>\n",
              "      <td>1.000000</td>\n",
              "      <td>0.923969</td>\n",
              "      <td>0.883910</td>\n",
              "      <td>0.853320</td>\n",
              "      <td>0.244335</td>\n",
              "      <td>0.316936</td>\n",
              "      <td>0.130011</td>\n",
              "      <td>0.143405</td>\n",
              "      <td>0.179712</td>\n",
              "      <td>0.182326</td>\n",
              "      <td>-0.014076</td>\n",
              "    </tr>\n",
              "    <tr>\n",
              "      <th>BILL_AMT4</th>\n",
              "      <td>0.293988</td>\n",
              "      <td>-0.021880</td>\n",
              "      <td>-0.006131</td>\n",
              "      <td>-0.027274</td>\n",
              "      <td>0.051353</td>\n",
              "      <td>0.022100</td>\n",
              "      <td>0.032467</td>\n",
              "      <td>0.016579</td>\n",
              "      <td>0.014654</td>\n",
              "      <td>0.024139</td>\n",
              "      <td>0.020598</td>\n",
              "      <td>0.860272</td>\n",
              "      <td>0.892482</td>\n",
              "      <td>0.923969</td>\n",
              "      <td>1.000000</td>\n",
              "      <td>0.940134</td>\n",
              "      <td>0.900941</td>\n",
              "      <td>0.233012</td>\n",
              "      <td>0.207564</td>\n",
              "      <td>0.300023</td>\n",
              "      <td>0.130191</td>\n",
              "      <td>0.160433</td>\n",
              "      <td>0.177637</td>\n",
              "      <td>-0.010156</td>\n",
              "    </tr>\n",
              "    <tr>\n",
              "      <th>BILL_AMT5</th>\n",
              "      <td>0.295562</td>\n",
              "      <td>-0.017005</td>\n",
              "      <td>-0.012439</td>\n",
              "      <td>-0.029270</td>\n",
              "      <td>0.049345</td>\n",
              "      <td>0.030731</td>\n",
              "      <td>0.040422</td>\n",
              "      <td>0.026196</td>\n",
              "      <td>0.027239</td>\n",
              "      <td>0.036216</td>\n",
              "      <td>0.041785</td>\n",
              "      <td>0.829779</td>\n",
              "      <td>0.859778</td>\n",
              "      <td>0.883910</td>\n",
              "      <td>0.940134</td>\n",
              "      <td>1.000000</td>\n",
              "      <td>0.946197</td>\n",
              "      <td>0.217031</td>\n",
              "      <td>0.181246</td>\n",
              "      <td>0.252305</td>\n",
              "      <td>0.293118</td>\n",
              "      <td>0.141574</td>\n",
              "      <td>0.164184</td>\n",
              "      <td>-0.006760</td>\n",
              "    </tr>\n",
              "    <tr>\n",
              "      <th>BILL_AMT6</th>\n",
              "      <td>0.290389</td>\n",
              "      <td>-0.016733</td>\n",
              "      <td>-0.012646</td>\n",
              "      <td>-0.025066</td>\n",
              "      <td>0.047613</td>\n",
              "      <td>0.030201</td>\n",
              "      <td>0.042222</td>\n",
              "      <td>0.028979</td>\n",
              "      <td>0.033138</td>\n",
              "      <td>0.042616</td>\n",
              "      <td>0.046012</td>\n",
              "      <td>0.802650</td>\n",
              "      <td>0.831594</td>\n",
              "      <td>0.853320</td>\n",
              "      <td>0.900941</td>\n",
              "      <td>0.946197</td>\n",
              "      <td>1.000000</td>\n",
              "      <td>0.199965</td>\n",
              "      <td>0.172663</td>\n",
              "      <td>0.233770</td>\n",
              "      <td>0.250237</td>\n",
              "      <td>0.307729</td>\n",
              "      <td>0.115494</td>\n",
              "      <td>-0.005372</td>\n",
              "    </tr>\n",
              "    <tr>\n",
              "      <th>PAY_AMT1</th>\n",
              "      <td>0.195236</td>\n",
              "      <td>-0.000242</td>\n",
              "      <td>-0.041088</td>\n",
              "      <td>-0.004653</td>\n",
              "      <td>0.026147</td>\n",
              "      <td>-0.079177</td>\n",
              "      <td>-0.097475</td>\n",
              "      <td>-0.039356</td>\n",
              "      <td>-0.054484</td>\n",
              "      <td>-0.053692</td>\n",
              "      <td>-0.047804</td>\n",
              "      <td>0.140277</td>\n",
              "      <td>0.280365</td>\n",
              "      <td>0.244335</td>\n",
              "      <td>0.233012</td>\n",
              "      <td>0.217031</td>\n",
              "      <td>0.199965</td>\n",
              "      <td>1.000000</td>\n",
              "      <td>0.285576</td>\n",
              "      <td>0.252191</td>\n",
              "      <td>0.199558</td>\n",
              "      <td>0.148459</td>\n",
              "      <td>0.185735</td>\n",
              "      <td>-0.072929</td>\n",
              "    </tr>\n",
              "    <tr>\n",
              "      <th>PAY_AMT2</th>\n",
              "      <td>0.178408</td>\n",
              "      <td>-0.001391</td>\n",
              "      <td>-0.032793</td>\n",
              "      <td>-0.009513</td>\n",
              "      <td>0.021785</td>\n",
              "      <td>-0.057189</td>\n",
              "      <td>-0.054838</td>\n",
              "      <td>-0.073670</td>\n",
              "      <td>-0.036877</td>\n",
              "      <td>-0.039586</td>\n",
              "      <td>-0.039868</td>\n",
              "      <td>0.099355</td>\n",
              "      <td>0.100851</td>\n",
              "      <td>0.316936</td>\n",
              "      <td>0.207564</td>\n",
              "      <td>0.181246</td>\n",
              "      <td>0.172663</td>\n",
              "      <td>0.285576</td>\n",
              "      <td>1.000000</td>\n",
              "      <td>0.244770</td>\n",
              "      <td>0.180107</td>\n",
              "      <td>0.180908</td>\n",
              "      <td>0.157634</td>\n",
              "      <td>-0.058579</td>\n",
              "    </tr>\n",
              "    <tr>\n",
              "      <th>PAY_AMT3</th>\n",
              "      <td>0.210167</td>\n",
              "      <td>-0.008597</td>\n",
              "      <td>-0.044293</td>\n",
              "      <td>-0.004250</td>\n",
              "      <td>0.029247</td>\n",
              "      <td>-0.062620</td>\n",
              "      <td>-0.059865</td>\n",
              "      <td>-0.057702</td>\n",
              "      <td>-0.074064</td>\n",
              "      <td>-0.037270</td>\n",
              "      <td>-0.040160</td>\n",
              "      <td>0.156887</td>\n",
              "      <td>0.150718</td>\n",
              "      <td>0.130011</td>\n",
              "      <td>0.300023</td>\n",
              "      <td>0.252305</td>\n",
              "      <td>0.233770</td>\n",
              "      <td>0.252191</td>\n",
              "      <td>0.244770</td>\n",
              "      <td>1.000000</td>\n",
              "      <td>0.216325</td>\n",
              "      <td>0.159214</td>\n",
              "      <td>0.162740</td>\n",
              "      <td>-0.056250</td>\n",
              "    </tr>\n",
              "    <tr>\n",
              "      <th>PAY_AMT4</th>\n",
              "      <td>0.203242</td>\n",
              "      <td>-0.002229</td>\n",
              "      <td>-0.040949</td>\n",
              "      <td>-0.013970</td>\n",
              "      <td>0.021379</td>\n",
              "      <td>-0.061886</td>\n",
              "      <td>-0.053981</td>\n",
              "      <td>-0.053849</td>\n",
              "      <td>-0.055305</td>\n",
              "      <td>-0.065943</td>\n",
              "      <td>-0.030460</td>\n",
              "      <td>0.158303</td>\n",
              "      <td>0.147398</td>\n",
              "      <td>0.143405</td>\n",
              "      <td>0.130191</td>\n",
              "      <td>0.293118</td>\n",
              "      <td>0.250237</td>\n",
              "      <td>0.199558</td>\n",
              "      <td>0.180107</td>\n",
              "      <td>0.216325</td>\n",
              "      <td>1.000000</td>\n",
              "      <td>0.151830</td>\n",
              "      <td>0.157834</td>\n",
              "      <td>-0.056827</td>\n",
              "    </tr>\n",
              "    <tr>\n",
              "      <th>PAY_AMT5</th>\n",
              "      <td>0.217202</td>\n",
              "      <td>-0.001667</td>\n",
              "      <td>-0.045138</td>\n",
              "      <td>-0.003019</td>\n",
              "      <td>0.022850</td>\n",
              "      <td>-0.053784</td>\n",
              "      <td>-0.048714</td>\n",
              "      <td>-0.050805</td>\n",
              "      <td>-0.052732</td>\n",
              "      <td>-0.051815</td>\n",
              "      <td>-0.066875</td>\n",
              "      <td>0.167026</td>\n",
              "      <td>0.157957</td>\n",
              "      <td>0.179712</td>\n",
              "      <td>0.160433</td>\n",
              "      <td>0.141574</td>\n",
              "      <td>0.307729</td>\n",
              "      <td>0.148459</td>\n",
              "      <td>0.180908</td>\n",
              "      <td>0.159214</td>\n",
              "      <td>0.151830</td>\n",
              "      <td>1.000000</td>\n",
              "      <td>0.154896</td>\n",
              "      <td>-0.055124</td>\n",
              "    </tr>\n",
              "    <tr>\n",
              "      <th>PAY_AMT6</th>\n",
              "      <td>0.219595</td>\n",
              "      <td>-0.002766</td>\n",
              "      <td>-0.044061</td>\n",
              "      <td>-0.008383</td>\n",
              "      <td>0.019478</td>\n",
              "      <td>-0.048733</td>\n",
              "      <td>-0.043099</td>\n",
              "      <td>-0.048443</td>\n",
              "      <td>-0.048828</td>\n",
              "      <td>-0.046110</td>\n",
              "      <td>-0.045358</td>\n",
              "      <td>0.179341</td>\n",
              "      <td>0.174256</td>\n",
              "      <td>0.182326</td>\n",
              "      <td>0.177637</td>\n",
              "      <td>0.164184</td>\n",
              "      <td>0.115494</td>\n",
              "      <td>0.185735</td>\n",
              "      <td>0.157634</td>\n",
              "      <td>0.162740</td>\n",
              "      <td>0.157834</td>\n",
              "      <td>0.154896</td>\n",
              "      <td>1.000000</td>\n",
              "      <td>-0.053183</td>\n",
              "    </tr>\n",
              "    <tr>\n",
              "      <th>default payment next month</th>\n",
              "      <td>-0.153520</td>\n",
              "      <td>-0.039961</td>\n",
              "      <td>0.033842</td>\n",
              "      <td>-0.027575</td>\n",
              "      <td>0.013890</td>\n",
              "      <td>0.396019</td>\n",
              "      <td>0.327093</td>\n",
              "      <td>0.286999</td>\n",
              "      <td>0.269055</td>\n",
              "      <td>0.260850</td>\n",
              "      <td>0.244437</td>\n",
              "      <td>-0.019644</td>\n",
              "      <td>-0.014193</td>\n",
              "      <td>-0.014076</td>\n",
              "      <td>-0.010156</td>\n",
              "      <td>-0.006760</td>\n",
              "      <td>-0.005372</td>\n",
              "      <td>-0.072929</td>\n",
              "      <td>-0.058579</td>\n",
              "      <td>-0.056250</td>\n",
              "      <td>-0.056827</td>\n",
              "      <td>-0.055124</td>\n",
              "      <td>-0.053183</td>\n",
              "      <td>1.000000</td>\n",
              "    </tr>\n",
              "  </tbody>\n",
              "</table>\n",
              "</div>\n",
              "      <button class=\"colab-df-convert\" onclick=\"convertToInteractive('df-380b5840-a0d7-4fd3-8b61-f33d3f98f798')\"\n",
              "              title=\"Convert this dataframe to an interactive table.\"\n",
              "              style=\"display:none;\">\n",
              "        \n",
              "  <svg xmlns=\"http://www.w3.org/2000/svg\" height=\"24px\"viewBox=\"0 0 24 24\"\n",
              "       width=\"24px\">\n",
              "    <path d=\"M0 0h24v24H0V0z\" fill=\"none\"/>\n",
              "    <path d=\"M18.56 5.44l.94 2.06.94-2.06 2.06-.94-2.06-.94-.94-2.06-.94 2.06-2.06.94zm-11 1L8.5 8.5l.94-2.06 2.06-.94-2.06-.94L8.5 2.5l-.94 2.06-2.06.94zm10 10l.94 2.06.94-2.06 2.06-.94-2.06-.94-.94-2.06-.94 2.06-2.06.94z\"/><path d=\"M17.41 7.96l-1.37-1.37c-.4-.4-.92-.59-1.43-.59-.52 0-1.04.2-1.43.59L10.3 9.45l-7.72 7.72c-.78.78-.78 2.05 0 2.83L4 21.41c.39.39.9.59 1.41.59.51 0 1.02-.2 1.41-.59l7.78-7.78 2.81-2.81c.8-.78.8-2.07 0-2.86zM5.41 20L4 18.59l7.72-7.72 1.47 1.35L5.41 20z\"/>\n",
              "  </svg>\n",
              "      </button>\n",
              "      \n",
              "  <style>\n",
              "    .colab-df-container {\n",
              "      display:flex;\n",
              "      flex-wrap:wrap;\n",
              "      gap: 12px;\n",
              "    }\n",
              "\n",
              "    .colab-df-convert {\n",
              "      background-color: #E8F0FE;\n",
              "      border: none;\n",
              "      border-radius: 50%;\n",
              "      cursor: pointer;\n",
              "      display: none;\n",
              "      fill: #1967D2;\n",
              "      height: 32px;\n",
              "      padding: 0 0 0 0;\n",
              "      width: 32px;\n",
              "    }\n",
              "\n",
              "    .colab-df-convert:hover {\n",
              "      background-color: #E2EBFA;\n",
              "      box-shadow: 0px 1px 2px rgba(60, 64, 67, 0.3), 0px 1px 3px 1px rgba(60, 64, 67, 0.15);\n",
              "      fill: #174EA6;\n",
              "    }\n",
              "\n",
              "    [theme=dark] .colab-df-convert {\n",
              "      background-color: #3B4455;\n",
              "      fill: #D2E3FC;\n",
              "    }\n",
              "\n",
              "    [theme=dark] .colab-df-convert:hover {\n",
              "      background-color: #434B5C;\n",
              "      box-shadow: 0px 1px 3px 1px rgba(0, 0, 0, 0.15);\n",
              "      filter: drop-shadow(0px 1px 2px rgba(0, 0, 0, 0.3));\n",
              "      fill: #FFFFFF;\n",
              "    }\n",
              "  </style>\n",
              "\n",
              "      <script>\n",
              "        const buttonEl =\n",
              "          document.querySelector('#df-380b5840-a0d7-4fd3-8b61-f33d3f98f798 button.colab-df-convert');\n",
              "        buttonEl.style.display =\n",
              "          google.colab.kernel.accessAllowed ? 'block' : 'none';\n",
              "\n",
              "        async function convertToInteractive(key) {\n",
              "          const element = document.querySelector('#df-380b5840-a0d7-4fd3-8b61-f33d3f98f798');\n",
              "          const dataTable =\n",
              "            await google.colab.kernel.invokeFunction('convertToInteractive',\n",
              "                                                     [key], {});\n",
              "          if (!dataTable) return;\n",
              "\n",
              "          const docLinkHtml = 'Like what you see? Visit the ' +\n",
              "            '<a target=\"_blank\" href=https://colab.research.google.com/notebooks/data_table.ipynb>data table notebook</a>'\n",
              "            + ' to learn more about interactive tables.';\n",
              "          element.innerHTML = '';\n",
              "          dataTable['output_type'] = 'display_data';\n",
              "          await google.colab.output.renderOutput(dataTable, element);\n",
              "          const docLink = document.createElement('div');\n",
              "          docLink.innerHTML = docLinkHtml;\n",
              "          element.appendChild(docLink);\n",
              "        }\n",
              "      </script>\n",
              "    </div>\n",
              "  </div>\n",
              "  "
            ],
            "text/plain": [
              "0                           LIMIT_BAL  ...  default payment next month\n",
              "0                                      ...                            \n",
              "LIMIT_BAL                    1.000000  ...                   -0.153520\n",
              "SEX                          0.024755  ...                   -0.039961\n",
              "EDUCATION                   -0.231088  ...                    0.033842\n",
              "MARRIAGE                    -0.111012  ...                   -0.027575\n",
              "AGE                          0.144713  ...                    0.013890\n",
              "PAY_0                       -0.170745  ...                    0.396019\n",
              "PAY_2                       -0.197136  ...                    0.327093\n",
              "PAY_3                       -0.191323  ...                    0.286999\n",
              "PAY_4                       -0.180629  ...                    0.269055\n",
              "PAY_5                       -0.170045  ...                    0.260850\n",
              "PAY_6                       -0.167820  ...                    0.244437\n",
              "BILL_AMT1                    0.285430  ...                   -0.019644\n",
              "BILL_AMT2                    0.278314  ...                   -0.014193\n",
              "BILL_AMT3                    0.283236  ...                   -0.014076\n",
              "BILL_AMT4                    0.293988  ...                   -0.010156\n",
              "BILL_AMT5                    0.295562  ...                   -0.006760\n",
              "BILL_AMT6                    0.290389  ...                   -0.005372\n",
              "PAY_AMT1                     0.195236  ...                   -0.072929\n",
              "PAY_AMT2                     0.178408  ...                   -0.058579\n",
              "PAY_AMT3                     0.210167  ...                   -0.056250\n",
              "PAY_AMT4                     0.203242  ...                   -0.056827\n",
              "PAY_AMT5                     0.217202  ...                   -0.055124\n",
              "PAY_AMT6                     0.219595  ...                   -0.053183\n",
              "default payment next month  -0.153520  ...                    1.000000\n",
              "\n",
              "[24 rows x 24 columns]"
            ]
          },
          "metadata": {},
          "execution_count": 30
        }
      ]
    },
    {
      "cell_type": "code",
      "source": [
        "plt.figure(figsize=(25,20))\n",
        "sns.heatmap(df.corr(),annot=True, vmin=-1.0)\n"
      ],
      "metadata": {
        "colab": {
          "base_uri": "https://localhost:8080/",
          "height": 1000
        },
        "id": "_UmQulmODa_5",
        "outputId": "e61b253e-715d-4f26-8333-18df8ba74895"
      },
      "execution_count": 31,
      "outputs": [
        {
          "output_type": "execute_result",
          "data": {
            "text/plain": [
              "<matplotlib.axes._subplots.AxesSubplot at 0x7f3069500450>"
            ]
          },
          "metadata": {},
          "execution_count": 31
        },
        {
          "output_type": "display_data",
          "data": {
            "image/png": "[encoded data removed]",
            "text/plain": [
              "<Figure size 1800x1440 with 2 Axes>"
            ]
          },
          "metadata": {}
        }
      ]
    },
    {
      "cell_type": "code",
      "source": [
        "dummies = pd.get_dummies(df['SEX'], prefix='Gender')\n",
        "df=pd.concat([df,dummies], axis=1)\n",
        "df.drop('SEX', axis=1, inplace=True)"
      ],
      "metadata": {
        "id": "ZyC67t_jqama"
      },
      "execution_count": 32,
      "outputs": []
    },
    {
      "cell_type": "code",
      "source": [
        "dummies1 = pd.get_dummies(df['EDUCATION'], prefix='EDU')\n",
        "df=pd.concat([df,dummies1], axis=1)\n",
        "df.drop('EDUCATION', axis=1, inplace=True)"
      ],
      "metadata": {
        "id": "tFJ7q08oqakL"
      },
      "execution_count": 33,
      "outputs": []
    },
    {
      "cell_type": "code",
      "source": [
        "dummies2 = pd.get_dummies(df['MARRIAGE'], prefix='MARRY')\n",
        "df=pd.concat([df,dummies2], axis=1)\n",
        "df.drop('MARRIAGE', axis=1, inplace=True)"
      ],
      "metadata": {
        "id": "oURrnR3nqahz"
      },
      "execution_count": 34,
      "outputs": []
    },
    {
      "cell_type": "code",
      "source": [
        "df.head()"
      ],
      "metadata": {
        "colab": {
          "base_uri": "https://localhost:8080/",
          "height": 322
        },
        "id": "m-AzoAEwqafL",
        "outputId": "bd614883-ff09-4fad-bda5-b4595996a083"
      },
      "execution_count": 35,
      "outputs": [
        {
          "output_type": "execute_result",
          "data": {
            "text/html": [
              "\n",
              "  <div id=\"df-d76c88a0-346d-471f-9f86-ceef1091032a\">\n",
              "    <div class=\"colab-df-container\">\n",
              "      <div>\n",
              "<style scoped>\n",
              "    .dataframe tbody tr th:only-of-type {\n",
              "        vertical-align: middle;\n",
              "    }\n",
              "\n",
              "    .dataframe tbody tr th {\n",
              "        vertical-align: top;\n",
              "    }\n",
              "\n",
              "    .dataframe thead th {\n",
              "        text-align: right;\n",
              "    }\n",
              "</style>\n",
              "<table border=\"1\" class=\"dataframe\">\n",
              "  <thead>\n",
              "    <tr style=\"text-align: right;\">\n",
              "      <th></th>\n",
              "      <th>LIMIT_BAL</th>\n",
              "      <th>AGE</th>\n",
              "      <th>PAY_0</th>\n",
              "      <th>PAY_2</th>\n",
              "      <th>PAY_3</th>\n",
              "      <th>PAY_4</th>\n",
              "      <th>PAY_5</th>\n",
              "      <th>PAY_6</th>\n",
              "      <th>BILL_AMT1</th>\n",
              "      <th>BILL_AMT2</th>\n",
              "      <th>BILL_AMT3</th>\n",
              "      <th>BILL_AMT4</th>\n",
              "      <th>BILL_AMT5</th>\n",
              "      <th>BILL_AMT6</th>\n",
              "      <th>PAY_AMT1</th>\n",
              "      <th>PAY_AMT2</th>\n",
              "      <th>PAY_AMT3</th>\n",
              "      <th>PAY_AMT4</th>\n",
              "      <th>PAY_AMT5</th>\n",
              "      <th>PAY_AMT6</th>\n",
              "      <th>default payment next month</th>\n",
              "      <th>Gender_1</th>\n",
              "      <th>Gender_2</th>\n",
              "      <th>EDU_1</th>\n",
              "      <th>EDU_2</th>\n",
              "      <th>EDU_3</th>\n",
              "      <th>EDU_4</th>\n",
              "      <th>MARRY_1</th>\n",
              "      <th>MARRY_2</th>\n",
              "      <th>MARRY_3</th>\n",
              "    </tr>\n",
              "  </thead>\n",
              "  <tbody>\n",
              "    <tr>\n",
              "      <th>1</th>\n",
              "      <td>20000</td>\n",
              "      <td>24</td>\n",
              "      <td>2</td>\n",
              "      <td>2</td>\n",
              "      <td>0</td>\n",
              "      <td>0</td>\n",
              "      <td>0</td>\n",
              "      <td>0</td>\n",
              "      <td>3913</td>\n",
              "      <td>3102</td>\n",
              "      <td>689</td>\n",
              "      <td>0</td>\n",
              "      <td>0</td>\n",
              "      <td>0</td>\n",
              "      <td>0</td>\n",
              "      <td>689</td>\n",
              "      <td>0</td>\n",
              "      <td>0</td>\n",
              "      <td>0</td>\n",
              "      <td>0</td>\n",
              "      <td>1</td>\n",
              "      <td>0</td>\n",
              "      <td>1</td>\n",
              "      <td>0</td>\n",
              "      <td>1</td>\n",
              "      <td>0</td>\n",
              "      <td>0</td>\n",
              "      <td>1</td>\n",
              "      <td>0</td>\n",
              "      <td>0</td>\n",
              "    </tr>\n",
              "    <tr>\n",
              "      <th>2</th>\n",
              "      <td>120000</td>\n",
              "      <td>26</td>\n",
              "      <td>0</td>\n",
              "      <td>2</td>\n",
              "      <td>0</td>\n",
              "      <td>0</td>\n",
              "      <td>0</td>\n",
              "      <td>2</td>\n",
              "      <td>2682</td>\n",
              "      <td>1725</td>\n",
              "      <td>2682</td>\n",
              "      <td>3272</td>\n",
              "      <td>3455</td>\n",
              "      <td>3261</td>\n",
              "      <td>0</td>\n",
              "      <td>1000</td>\n",
              "      <td>1000</td>\n",
              "      <td>1000</td>\n",
              "      <td>0</td>\n",
              "      <td>2000</td>\n",
              "      <td>1</td>\n",
              "      <td>0</td>\n",
              "      <td>1</td>\n",
              "      <td>0</td>\n",
              "      <td>1</td>\n",
              "      <td>0</td>\n",
              "      <td>0</td>\n",
              "      <td>0</td>\n",
              "      <td>1</td>\n",
              "      <td>0</td>\n",
              "    </tr>\n",
              "    <tr>\n",
              "      <th>3</th>\n",
              "      <td>90000</td>\n",
              "      <td>34</td>\n",
              "      <td>0</td>\n",
              "      <td>0</td>\n",
              "      <td>0</td>\n",
              "      <td>0</td>\n",
              "      <td>0</td>\n",
              "      <td>0</td>\n",
              "      <td>29239</td>\n",
              "      <td>14027</td>\n",
              "      <td>13559</td>\n",
              "      <td>14331</td>\n",
              "      <td>14948</td>\n",
              "      <td>15549</td>\n",
              "      <td>1518</td>\n",
              "      <td>1500</td>\n",
              "      <td>1000</td>\n",
              "      <td>1000</td>\n",
              "      <td>1000</td>\n",
              "      <td>5000</td>\n",
              "      <td>0</td>\n",
              "      <td>0</td>\n",
              "      <td>1</td>\n",
              "      <td>0</td>\n",
              "      <td>1</td>\n",
              "      <td>0</td>\n",
              "      <td>0</td>\n",
              "      <td>0</td>\n",
              "      <td>1</td>\n",
              "      <td>0</td>\n",
              "    </tr>\n",
              "    <tr>\n",
              "      <th>4</th>\n",
              "      <td>50000</td>\n",
              "      <td>37</td>\n",
              "      <td>0</td>\n",
              "      <td>0</td>\n",
              "      <td>0</td>\n",
              "      <td>0</td>\n",
              "      <td>0</td>\n",
              "      <td>0</td>\n",
              "      <td>46990</td>\n",
              "      <td>48233</td>\n",
              "      <td>49291</td>\n",
              "      <td>28314</td>\n",
              "      <td>28959</td>\n",
              "      <td>29547</td>\n",
              "      <td>2000</td>\n",
              "      <td>2019</td>\n",
              "      <td>1200</td>\n",
              "      <td>1100</td>\n",
              "      <td>1069</td>\n",
              "      <td>1000</td>\n",
              "      <td>0</td>\n",
              "      <td>0</td>\n",
              "      <td>1</td>\n",
              "      <td>0</td>\n",
              "      <td>1</td>\n",
              "      <td>0</td>\n",
              "      <td>0</td>\n",
              "      <td>1</td>\n",
              "      <td>0</td>\n",
              "      <td>0</td>\n",
              "    </tr>\n",
              "    <tr>\n",
              "      <th>5</th>\n",
              "      <td>50000</td>\n",
              "      <td>57</td>\n",
              "      <td>0</td>\n",
              "      <td>0</td>\n",
              "      <td>0</td>\n",
              "      <td>0</td>\n",
              "      <td>0</td>\n",
              "      <td>0</td>\n",
              "      <td>8617</td>\n",
              "      <td>5670</td>\n",
              "      <td>35835</td>\n",
              "      <td>20940</td>\n",
              "      <td>19146</td>\n",
              "      <td>19131</td>\n",
              "      <td>2000</td>\n",
              "      <td>36681</td>\n",
              "      <td>10000</td>\n",
              "      <td>9000</td>\n",
              "      <td>689</td>\n",
              "      <td>679</td>\n",
              "      <td>0</td>\n",
              "      <td>1</td>\n",
              "      <td>0</td>\n",
              "      <td>0</td>\n",
              "      <td>1</td>\n",
              "      <td>0</td>\n",
              "      <td>0</td>\n",
              "      <td>1</td>\n",
              "      <td>0</td>\n",
              "      <td>0</td>\n",
              "    </tr>\n",
              "  </tbody>\n",
              "</table>\n",
              "</div>\n",
              "      <button class=\"colab-df-convert\" onclick=\"convertToInteractive('df-d76c88a0-346d-471f-9f86-ceef1091032a')\"\n",
              "              title=\"Convert this dataframe to an interactive table.\"\n",
              "              style=\"display:none;\">\n",
              "        \n",
              "  <svg xmlns=\"http://www.w3.org/2000/svg\" height=\"24px\"viewBox=\"0 0 24 24\"\n",
              "       width=\"24px\">\n",
              "    <path d=\"M0 0h24v24H0V0z\" fill=\"none\"/>\n",
              "    <path d=\"M18.56 5.44l.94 2.06.94-2.06 2.06-.94-2.06-.94-.94-2.06-.94 2.06-2.06.94zm-11 1L8.5 8.5l.94-2.06 2.06-.94-2.06-.94L8.5 2.5l-.94 2.06-2.06.94zm10 10l.94 2.06.94-2.06 2.06-.94-2.06-.94-.94-2.06-.94 2.06-2.06.94z\"/><path d=\"M17.41 7.96l-1.37-1.37c-.4-.4-.92-.59-1.43-.59-.52 0-1.04.2-1.43.59L10.3 9.45l-7.72 7.72c-.78.78-.78 2.05 0 2.83L4 21.41c.39.39.9.59 1.41.59.51 0 1.02-.2 1.41-.59l7.78-7.78 2.81-2.81c.8-.78.8-2.07 0-2.86zM5.41 20L4 18.59l7.72-7.72 1.47 1.35L5.41 20z\"/>\n",
              "  </svg>\n",
              "      </button>\n",
              "      \n",
              "  <style>\n",
              "    .colab-df-container {\n",
              "      display:flex;\n",
              "      flex-wrap:wrap;\n",
              "      gap: 12px;\n",
              "    }\n",
              "\n",
              "    .colab-df-convert {\n",
              "      background-color: #E8F0FE;\n",
              "      border: none;\n",
              "      border-radius: 50%;\n",
              "      cursor: pointer;\n",
              "      display: none;\n",
              "      fill: #1967D2;\n",
              "      height: 32px;\n",
              "      padding: 0 0 0 0;\n",
              "      width: 32px;\n",
              "    }\n",
              "\n",
              "    .colab-df-convert:hover {\n",
              "      background-color: #E2EBFA;\n",
              "      box-shadow: 0px 1px 2px rgba(60, 64, 67, 0.3), 0px 1px 3px 1px rgba(60, 64, 67, 0.15);\n",
              "      fill: #174EA6;\n",
              "    }\n",
              "\n",
              "    [theme=dark] .colab-df-convert {\n",
              "      background-color: #3B4455;\n",
              "      fill: #D2E3FC;\n",
              "    }\n",
              "\n",
              "    [theme=dark] .colab-df-convert:hover {\n",
              "      background-color: #434B5C;\n",
              "      box-shadow: 0px 1px 3px 1px rgba(0, 0, 0, 0.15);\n",
              "      filter: drop-shadow(0px 1px 2px rgba(0, 0, 0, 0.3));\n",
              "      fill: #FFFFFF;\n",
              "    }\n",
              "  </style>\n",
              "\n",
              "      <script>\n",
              "        const buttonEl =\n",
              "          document.querySelector('#df-d76c88a0-346d-471f-9f86-ceef1091032a button.colab-df-convert');\n",
              "        buttonEl.style.display =\n",
              "          google.colab.kernel.accessAllowed ? 'block' : 'none';\n",
              "\n",
              "        async function convertToInteractive(key) {\n",
              "          const element = document.querySelector('#df-d76c88a0-346d-471f-9f86-ceef1091032a');\n",
              "          const dataTable =\n",
              "            await google.colab.kernel.invokeFunction('convertToInteractive',\n",
              "                                                     [key], {});\n",
              "          if (!dataTable) return;\n",
              "\n",
              "          const docLinkHtml = 'Like what you see? Visit the ' +\n",
              "            '<a target=\"_blank\" href=https://colab.research.google.com/notebooks/data_table.ipynb>data table notebook</a>'\n",
              "            + ' to learn more about interactive tables.';\n",
              "          element.innerHTML = '';\n",
              "          dataTable['output_type'] = 'display_data';\n",
              "          await google.colab.output.renderOutput(dataTable, element);\n",
              "          const docLink = document.createElement('div');\n",
              "          docLink.innerHTML = docLinkHtml;\n",
              "          element.appendChild(docLink);\n",
              "        }\n",
              "      </script>\n",
              "    </div>\n",
              "  </div>\n",
              "  "
            ],
            "text/plain": [
              "   LIMIT_BAL  AGE  PAY_0  PAY_2  PAY_3  ...  EDU_3  EDU_4  MARRY_1  MARRY_2  MARRY_3\n",
              "1      20000   24      2      2      0  ...      0      0        1        0        0\n",
              "2     120000   26      0      2      0  ...      0      0        0        1        0\n",
              "3      90000   34      0      0      0  ...      0      0        0        1        0\n",
              "4      50000   37      0      0      0  ...      0      0        1        0        0\n",
              "5      50000   57      0      0      0  ...      0      0        1        0        0\n",
              "\n",
              "[5 rows x 30 columns]"
            ]
          },
          "metadata": {},
          "execution_count": 35
        }
      ]
    },
    {
      "cell_type": "markdown",
      "source": [
        "#Seperate Dependent and Independent Variable"
      ],
      "metadata": {
        "id": "mu1UB8fXwbpp"
      }
    },
    {
      "cell_type": "code",
      "source": [
        "X=df[set(df.columns)-{'default payment next month'}]"
      ],
      "metadata": {
        "id": "bZgHOBEdqack"
      },
      "execution_count": 36,
      "outputs": []
    },
    {
      "cell_type": "code",
      "source": [
        "col=list(df.columns)"
      ],
      "metadata": {
        "id": "_ofOryNM0_hj"
      },
      "execution_count": 37,
      "outputs": []
    },
    {
      "cell_type": "code",
      "source": [
        "col.remove('default payment next month')"
      ],
      "metadata": {
        "id": "EcT_Dut41ptf"
      },
      "execution_count": 38,
      "outputs": []
    },
    {
      "cell_type": "code",
      "source": [
        "Y=df['default payment next month']"
      ],
      "metadata": {
        "id": "61EC_yjiqaaC"
      },
      "execution_count": 39,
      "outputs": []
    },
    {
      "cell_type": "code",
      "source": [
        "scaler = StandardScaler()\n",
        "X = pd.DataFrame(scaler.fit_transform(X), columns=[col])\n"
      ],
      "metadata": {
        "id": "d6A0NAiEqaXf"
      },
      "execution_count": 40,
      "outputs": []
    },
    {
      "cell_type": "code",
      "source": [
        "from imblearn.over_sampling import SMOTE\n",
        "\n",
        "smote = SMOTE()\n",
        "\n",
        "x_smote, y_smote = smote.fit_resample(X, Y)"
      ],
      "metadata": {
        "id": "TVIfHiQ0Mg-P"
      },
      "execution_count": 41,
      "outputs": []
    },
    {
      "cell_type": "code",
      "source": [
        "x_train,x_test,y_train,y_test = (train_test_split(x_smote,y_smote, test_size=0.2, random_state=3))"
      ],
      "metadata": {
        "id": "l1iN7SjCy9Pm"
      },
      "execution_count": 42,
      "outputs": []
    },
    {
      "cell_type": "markdown",
      "source": [
        "#Implementing Logistic Regression"
      ],
      "metadata": {
        "id": "46BsKvA91GgV"
      }
    },
    {
      "cell_type": "code",
      "source": [
        "# Logistic = LogisticRegression()\n",
        "# Logistic.fit(x_train, y_train)\n",
        "# y_pred = Logistic.predict(x_test)"
      ],
      "metadata": {
        "id": "bl1z-iW1M4vW"
      },
      "execution_count": 43,
      "outputs": []
    },
    {
      "cell_type": "code",
      "source": [
        ""
      ],
      "metadata": {
        "id": "d20vJrg_OorJ"
      },
      "execution_count": 43,
      "outputs": []
    },
    {
      "cell_type": "code",
      "source": [
        "# from sklearn.metrics import  accuracy_score, f1_score, precision_score, recall_score, roc_auc_score\n",
        "# roc=roc_auc_score(y_test, y_pred) *100\n",
        "# acc = accuracy_score(y_test, y_pred) *100\n",
        "# prec = precision_score(y_test, y_pred) *100\n",
        "# rec = recall_score(y_test, y_pred) *100\n",
        "# f1 = f1_score(y_test, y_pred) *100\n",
        "\n",
        "# results = pd.DataFrame([['Logistic Regression', acc,prec,rec, f1,roc]],\n",
        "#                columns = ['Model', 'Accuracy', 'Precision', 'Recall', 'F1 Score','ROC'])\n",
        "# print(results)"
      ],
      "metadata": {
        "id": "_T5OUWLVmFCh"
      },
      "execution_count": 44,
      "outputs": []
    },
    {
      "cell_type": "markdown",
      "source": [
        "-----"
      ],
      "metadata": {
        "id": "7_BNwy_eQT71"
      }
    },
    {
      "cell_type": "markdown",
      "source": [
        "#Hyper-Parameter Tuning in  Logistic Regression Model"
      ],
      "metadata": {
        "id": "y3S8JTXAQdUn"
      }
    },
    {
      "cell_type": "code",
      "source": [
        "# param_grid = [{'penalty': ['l1','l2','elasticnet','none'],\n",
        "#                'max_iter': [100,500,5000],\n",
        "#                'solver' : ['newton-cg', 'lbfgs', 'liblinear', 'sag', 'saga'],\n",
        "#                'C' : [100, 10, 1.0, 0.1, 0.01]\n",
        "#                }\n",
        "#               ]\n",
        "# Logistic1 = LogisticRegression()\n",
        "# clf = gsv(Logistic1, param_grid=param_grid, cv=5, verbose=True, n_jobs=-1,scoring='f1')\n",
        "# best_clf = clf.fit(x_smote,y_smote)\n",
        "# clf.best_params_"
      ],
      "metadata": {
        "id": "SfEjh6NtMZBS"
      },
      "execution_count": 45,
      "outputs": []
    },
    {
      "cell_type": "code",
      "source": [
        ""
      ],
      "metadata": {
        "id": "UawZwLwVCc5O"
      },
      "execution_count": 45,
      "outputs": []
    },
    {
      "cell_type": "code",
      "source": [
        ""
      ],
      "metadata": {
        "id": "GkplmFuzUAu3"
      },
      "execution_count": 45,
      "outputs": []
    },
    {
      "cell_type": "code",
      "source": [
        ""
      ],
      "metadata": {
        "id": "p8iutYc6UeOT"
      },
      "execution_count": 45,
      "outputs": []
    },
    {
      "cell_type": "code",
      "source": [
        ""
      ],
      "metadata": {
        "id": "gPrV1LutAV17"
      },
      "execution_count": 45,
      "outputs": []
    },
    {
      "cell_type": "markdown",
      "source": [
        "----------------"
      ],
      "metadata": {
        "id": "Ju5YKSJ5lPEZ"
      }
    },
    {
      "cell_type": "code",
      "source": [
        "# BestLogistic = LogisticRegression(C = 0.01, max_iter= 100, penalty='l2', solver= 'liblinear')\n",
        "# BestLogistic.fit(x_train,y_train)\n",
        "# y_pred=BestLogistic.predict(x_test)"
      ],
      "metadata": {
        "id": "VkZWazOwOOgp"
      },
      "execution_count": 46,
      "outputs": []
    },
    {
      "cell_type": "code",
      "source": [
        ""
      ],
      "metadata": {
        "id": "C_K4UrzzOiAJ"
      },
      "execution_count": 46,
      "outputs": []
    },
    {
      "cell_type": "code",
      "source": [
        "# from sklearn.metrics import  accuracy_score, f1_score, precision_score, recall_score, roc_auc_score\n",
        "# roc=roc_auc_score(y_test, y_pred) *100\n",
        "# acc = accuracy_score(y_test, y_pred) *100\n",
        "# prec = precision_score(y_test, y_pred) *100\n",
        "# rec = recall_score(y_test, y_pred) *100\n",
        "# f1 = f1_score(y_test, y_pred) *100\n",
        "\n",
        "# results = pd.DataFrame([['Logistic Regression', acc,prec,rec, f1,roc]],\n",
        "#                columns = ['Model', 'Accuracy', 'Precision', 'Recall', 'F1 Score','ROC'])\n",
        "# print(results)"
      ],
      "metadata": {
        "id": "hTIFU62QkwT2"
      },
      "execution_count": 47,
      "outputs": []
    },
    {
      "cell_type": "markdown",
      "source": [
        "-----------"
      ],
      "metadata": {
        "id": "t7gibjV2sUTT"
      }
    },
    {
      "cell_type": "markdown",
      "source": [
        "#Random Forest Implementation"
      ],
      "metadata": {
        "id": "XSHqIct-saNK"
      }
    },
    {
      "cell_type": "code",
      "source": [
        "# Random = RandomForestClassifier()\n",
        "# Random.fit(x_train,y_train)\n",
        "# y_pred = Random.predict(x_test)"
      ],
      "metadata": {
        "id": "8j9SeW1zsZi_"
      },
      "execution_count": 48,
      "outputs": []
    },
    {
      "cell_type": "code",
      "source": [
        ""
      ],
      "metadata": {
        "id": "_MrUqjn4rzzE"
      },
      "execution_count": 48,
      "outputs": []
    },
    {
      "cell_type": "code",
      "source": [
        ""
      ],
      "metadata": {
        "id": "9C7nwH68rzwf"
      },
      "execution_count": 48,
      "outputs": []
    },
    {
      "cell_type": "code",
      "source": [
        "# roc=roc_auc_score(y_test, y_pred) *100\n",
        "# acc = accuracy_score(y_test, y_pred) *100\n",
        "# prec = precision_score(y_test, y_pred) *100\n",
        "# rec = recall_score(y_test, y_pred) *100\n",
        "# f1 = f1_score(y_test, y_pred) *100\n",
        "\n",
        "# results = pd.DataFrame([['Logistic Regression', acc,prec,rec, f1,roc]],\n",
        "#                columns = ['Model', 'Accuracy', 'Precision', 'Recall', 'F1 Score','ROC'])\n",
        "# print(results)"
      ],
      "metadata": {
        "id": "FfFKiIxtrzuJ"
      },
      "execution_count": 49,
      "outputs": []
    },
    {
      "cell_type": "markdown",
      "source": [
        ""
      ],
      "metadata": {
        "id": "fEuAroBm4_Sm"
      }
    },
    {
      "cell_type": "markdown",
      "source": [
        "#Random Forest (Cross-Validation and Hyper-Parameter tuning)"
      ],
      "metadata": {
        "id": "PlKEeuo2sRpb"
      }
    },
    {
      "cell_type": "code",
      "source": [
        "# param_grid=[{'n_estimators' : [100, 1000],'max_features' : ['sqrt', 'log2']}]\n",
        "# Random1 = RandomForestClassifier()\n",
        "# clf = gsv(Random1, param_grid=param_grid, cv=4, verbose=True, n_jobs=-1,scoring='f1')\n",
        "# Best_fit1=clf.fit(x_smote,y_smote)\n",
        "# clf.best_params_"
      ],
      "metadata": {
        "id": "1wR_A5Dqrzrl"
      },
      "execution_count": 50,
      "outputs": []
    },
    {
      "cell_type": "code",
      "source": [
        ""
      ],
      "metadata": {
        "id": "n50BFK9VrzpE"
      },
      "execution_count": 50,
      "outputs": []
    },
    {
      "cell_type": "code",
      "source": [
        ""
      ],
      "metadata": {
        "id": "uiuqdtgzrzmS"
      },
      "execution_count": 50,
      "outputs": []
    },
    {
      "cell_type": "code",
      "source": [
        ""
      ],
      "metadata": {
        "id": "sSzQ5-t2rzja"
      },
      "execution_count": 50,
      "outputs": []
    },
    {
      "cell_type": "code",
      "source": [
        ""
      ],
      "metadata": {
        "id": "HkkXaOJjtWe_"
      },
      "execution_count": 50,
      "outputs": []
    },
    {
      "cell_type": "markdown",
      "source": [
        "-----------------------"
      ],
      "metadata": {
        "id": "I1vj0dJFtdcV"
      }
    },
    {
      "cell_type": "code",
      "source": [
        "# Best_Random1 = RandomForestClassifier(max_features= 'log2', n_estimators= 1000)\n",
        "# Best_Random1.fit(x_train,y_train)\n",
        "# y_pred = Best_Random1.predict(x_test)"
      ],
      "metadata": {
        "id": "sd6gjpRjtc5d"
      },
      "execution_count": 51,
      "outputs": []
    },
    {
      "cell_type": "code",
      "source": [
        ""
      ],
      "metadata": {
        "id": "kLq7L0_Gtc2U"
      },
      "execution_count": 51,
      "outputs": []
    },
    {
      "cell_type": "code",
      "source": [
        ""
      ],
      "metadata": {
        "id": "Dn47Tn_5tcrt"
      },
      "execution_count": 51,
      "outputs": []
    },
    {
      "cell_type": "code",
      "source": [
        "# roc=roc_auc_score(y_test, y_pred) *100\n",
        "# acc = accuracy_score(y_test, y_pred) *100\n",
        "# prec = precision_score(y_test, y_pred) *100\n",
        "# rec = recall_score(y_test, y_pred) *100\n",
        "# f1 = f1_score(y_test, y_pred) *100\n",
        "\n",
        "# results = pd.DataFrame([['Logistic Regression', acc,prec,rec, f1,roc]],\n",
        "#                columns = ['Model', 'Accuracy', 'Precision', 'Recall', 'F1 Score','ROC'])\n",
        "# print(results)"
      ],
      "metadata": {
        "id": "tdymOFYVsZgc"
      },
      "execution_count": 52,
      "outputs": []
    },
    {
      "cell_type": "markdown",
      "source": [
        "------------------------------------------------------------------"
      ],
      "metadata": {
        "id": "JQU16bhatMC9"
      }
    },
    {
      "cell_type": "markdown",
      "source": [
        "#KNN Implementation"
      ],
      "metadata": {
        "id": "7Dl6BgXIKb-2"
      }
    },
    {
      "cell_type": "code",
      "source": [
        "# knn=KNeighborsClassifier()\n",
        "# knn.fit(x_train,y_train)\n",
        "# y_pred = knn.predict(x_test)"
      ],
      "metadata": {
        "id": "yVQ-oSMaKbkW"
      },
      "execution_count": 53,
      "outputs": []
    },
    {
      "cell_type": "code",
      "source": [
        ""
      ],
      "metadata": {
        "id": "SF8-gfVXuB5X"
      },
      "execution_count": 53,
      "outputs": []
    },
    {
      "cell_type": "code",
      "source": [
        ""
      ],
      "metadata": {
        "id": "n7YRr8zUuB23"
      },
      "execution_count": 53,
      "outputs": []
    },
    {
      "cell_type": "code",
      "source": [
        "# roc=roc_auc_score(y_test, y_pred) *100\n",
        "# acc = accuracy_score(y_test, y_pred) *100\n",
        "# prec = precision_score(y_test, y_pred) *100\n",
        "# rec = recall_score(y_test, y_pred) *100\n",
        "# f1 = f1_score(y_test, y_pred) *100\n",
        "\n",
        "# results = pd.DataFrame([['Logistic Regression', acc,prec,rec, f1,roc]],\n",
        "#                columns = ['Model', 'Accuracy', 'Precision', 'Recall', 'F1 Score','ROC'])\n",
        "# print(results)"
      ],
      "metadata": {
        "id": "OiqrQVO3uB0Y"
      },
      "execution_count": 54,
      "outputs": []
    },
    {
      "cell_type": "markdown",
      "source": [
        "#KNN with hyper-parameter tuning and cross validation"
      ],
      "metadata": {
        "id": "A666_Ps_LzxA"
      }
    },
    {
      "cell_type": "code",
      "source": [
        "# param_grid=[{'n_neighbors' : range(1, 21, 2),'weights' : ['uniform', 'distance'], 'metric' : ['euclidean', 'manhattan', 'minkowski']}]\n",
        "# knn1 = KNeighborsClassifier()\n",
        "# clf = gsv(knn1, param_grid=param_grid, cv=4, verbose=True, n_jobs=-1,scoring='f1')\n",
        "# Best_fit1=clf.fit(x_smote,y_smote)\n",
        "# clf.best_params_"
      ],
      "metadata": {
        "id": "P9-dJrnhuBy_"
      },
      "execution_count": 55,
      "outputs": []
    },
    {
      "cell_type": "code",
      "source": [
        ""
      ],
      "metadata": {
        "id": "CSCmlugpuBwx"
      },
      "execution_count": 55,
      "outputs": []
    },
    {
      "cell_type": "code",
      "source": [
        ""
      ],
      "metadata": {
        "id": "37GvUtytuBuO"
      },
      "execution_count": 55,
      "outputs": []
    },
    {
      "cell_type": "code",
      "source": [
        ""
      ],
      "metadata": {
        "id": "je0fmFdjuBro"
      },
      "execution_count": 55,
      "outputs": []
    },
    {
      "cell_type": "code",
      "source": [
        ""
      ],
      "metadata": {
        "id": "BegeCIs6uBof"
      },
      "execution_count": 55,
      "outputs": []
    },
    {
      "cell_type": "code",
      "source": [
        "# y_pred = clf.predict(x_test)"
      ],
      "metadata": {
        "id": "43bU_WtsuBl5"
      },
      "execution_count": 56,
      "outputs": []
    },
    {
      "cell_type": "code",
      "source": [
        "# roc=roc_auc_score(y_test, y_pred) *100\n",
        "# acc = accuracy_score(y_test, y_pred) *100\n",
        "# prec = precision_score(y_test, y_pred) *100\n",
        "# rec = recall_score(y_test, y_pred) *100\n",
        "# f1 = f1_score(y_test, y_pred) *100\n",
        "\n",
        "# results = pd.DataFrame([['Logistic Regression', acc,prec,rec, f1,roc]],\n",
        "#                columns = ['Model', 'Accuracy', 'Precision', 'Recall', 'F1 Score','ROC'])\n",
        "# print(results)"
      ],
      "metadata": {
        "id": "sBWiUmyGMcTE"
      },
      "execution_count": 57,
      "outputs": []
    },
    {
      "cell_type": "code",
      "source": [
        ""
      ],
      "metadata": {
        "id": "1C1SI08LMcPA"
      },
      "execution_count": 57,
      "outputs": []
    },
    {
      "cell_type": "markdown",
      "source": [
        "-------------"
      ],
      "metadata": {
        "id": "og391LBpXvqg"
      }
    },
    {
      "cell_type": "code",
      "source": [
        "# knn2 = KNeighborsClassifier(metric= 'manhattan', n_neighbors= 1, weights= 'uniform')\n",
        "# knn2.fit(x_train,y_train)\n",
        "# y_pred=knn2.predict(x_test)"
      ],
      "metadata": {
        "id": "8svihCtSMcMG"
      },
      "execution_count": 58,
      "outputs": []
    },
    {
      "cell_type": "code",
      "source": [
        ""
      ],
      "metadata": {
        "id": "pK3AZTNHMcJo"
      },
      "execution_count": 58,
      "outputs": []
    },
    {
      "cell_type": "code",
      "source": [
        ""
      ],
      "metadata": {
        "id": "Q477GfYEMcHI"
      },
      "execution_count": 58,
      "outputs": []
    },
    {
      "cell_type": "code",
      "source": [
        "# roc=roc_auc_score(y_test, y_pred) *100\n",
        "# acc = accuracy_score(y_test, y_pred) *100\n",
        "# prec = precision_score(y_test, y_pred) *100\n",
        "# rec = recall_score(y_test, y_pred) *100\n",
        "# f1 = f1_score(y_test, y_pred) *100\n",
        "\n",
        "# results = pd.DataFrame([['Logistic Regression', acc,prec,rec, f1,roc]],\n",
        "#                columns = ['Model', 'Accuracy', 'Precision', 'Recall', 'F1 Score','ROC'])\n",
        "# print(results)"
      ],
      "metadata": {
        "id": "ZSlQ9Z0DMcEP"
      },
      "execution_count": 59,
      "outputs": []
    },
    {
      "cell_type": "markdown",
      "source": [
        "------------------------"
      ],
      "metadata": {
        "id": "WpzjtJaygZUe"
      }
    },
    {
      "cell_type": "markdown",
      "source": [
        "#XGBoost Algorithm"
      ],
      "metadata": {
        "id": "H1lDmeV_lM-e"
      }
    },
    {
      "cell_type": "code",
      "source": [
        "import xgboost as xgb"
      ],
      "metadata": {
        "id": "c0ulD4aHlMno"
      },
      "execution_count": 73,
      "outputs": []
    },
    {
      "cell_type": "code",
      "source": [
        "from xgboost import XGBClassifier"
      ],
      "metadata": {
        "id": "TBwPatzOmjsd"
      },
      "execution_count": 74,
      "outputs": []
    },
    {
      "cell_type": "code",
      "source": [
        "# fit model no training data\n",
        "model = XGBClassifier(n_estimators=1500, eta=0.05)\n",
        "model.fit(x_train, y_train)"
      ],
      "metadata": {
        "colab": {
          "base_uri": "https://localhost:8080/"
        },
        "id": "oTFIVaemMb_o",
        "outputId": "f853e933-7c3f-4a97-d09e-c5955f9ac318"
      },
      "execution_count": 83,
      "outputs": [
        {
          "output_type": "execute_result",
          "data": {
            "text/plain": [
              "XGBClassifier(eta=0.05, n_estimators=1500)"
            ]
          },
          "metadata": {},
          "execution_count": 83
        }
      ]
    },
    {
      "cell_type": "code",
      "source": [
        "y_pred=model.predict(x_test)"
      ],
      "metadata": {
        "id": "V6dUk74dMb86"
      },
      "execution_count": 84,
      "outputs": []
    },
    {
      "cell_type": "code",
      "source": [
        "from sklearn.metrics import  accuracy_score, f1_score, precision_score, recall_score, roc_auc_score"
      ],
      "metadata": {
        "id": "RkDSkXuKyQ4y"
      },
      "execution_count": 81,
      "outputs": []
    },
    {
      "cell_type": "code",
      "source": [
        "roc=roc_auc_score(y_test, y_pred) *100\n",
        "acc = accuracy_score(y_test, y_pred) *100\n",
        "prec = precision_score(y_test, y_pred) *100\n",
        "rec = recall_score(y_test, y_pred) *100\n",
        "f1 = f1_score(y_test, y_pred) *100\n",
        "\n",
        "results = pd.DataFrame([['Logistic Regression', acc,prec,rec, f1,roc]],\n",
        "               columns = ['Model', 'Accuracy', 'Precision', 'Recall', 'F1 Score','ROC'])\n",
        "print(results)"
      ],
      "metadata": {
        "colab": {
          "base_uri": "https://localhost:8080/"
        },
        "id": "rVi8RsUhMb7E",
        "outputId": "9a7d42cd-5af3-48fa-c202-82a96a0b6858"
      },
      "execution_count": 85,
      "outputs": [
        {
          "output_type": "stream",
          "name": "stdout",
          "text": [
            "                 Model   Accuracy  Precision    Recall   F1 Score        ROC\n",
            "0  Logistic Regression  87.459876  92.670413  81.30761  86.617949  87.449361\n"
          ]
        }
      ]
    },
    {
      "cell_type": "code",
      "source": [
        " Model   Accuracy  Precision     Recall  F1 Score        ROC\n",
        "0  Logistic Regression  87.459876  92.545676  81.436227  86.63626  87.449581  -- 2000"
      ],
      "metadata": {
        "id": "SFQiDmbTMb3_"
      },
      "execution_count": null,
      "outputs": []
    },
    {
      "cell_type": "code",
      "source": [
        " Model   Accuracy  Precision     Recall   F1 Score        ROC\n",
        "0  Logistic Regression  79.574149  84.536341  72.304394  77.943385  79.561725  --- Default"
      ],
      "metadata": {
        "id": "pI664EEqMb1I"
      },
      "execution_count": null,
      "outputs": []
    },
    {
      "cell_type": "code",
      "source": [
        "Model   Accuracy  Precision     Recall   F1 Score       ROC\n",
        "0  Logistic Regression  87.470576  92.923833  81.071811  86.594161  87.45964        ---1000"
      ],
      "metadata": {
        "id": "SzGkxwJwMbyu"
      },
      "execution_count": null,
      "outputs": []
    },
    {
      "cell_type": "code",
      "source": [
        ""
      ],
      "metadata": {
        "id": "6dUVeFeDMbwf"
      },
      "execution_count": null,
      "outputs": []
    },
    {
      "cell_type": "code",
      "source": [
        ""
      ],
      "metadata": {
        "id": "3yPVerpaMbtj"
      },
      "execution_count": null,
      "outputs": []
    },
    {
      "cell_type": "code",
      "source": [
        ""
      ],
      "metadata": {
        "id": "4QO8vfwjMbrG"
      },
      "execution_count": null,
      "outputs": []
    },
    {
      "cell_type": "code",
      "source": [
        ""
      ],
      "metadata": {
        "id": "Ygan6Au6MboX"
      },
      "execution_count": null,
      "outputs": []
    },
    {
      "cell_type": "code",
      "source": [
        ""
      ],
      "metadata": {
        "id": "xqqwyaazMbmB"
      },
      "execution_count": null,
      "outputs": []
    },
    {
      "cell_type": "code",
      "source": [
        ""
      ],
      "metadata": {
        "id": "ZPcfFDF4MbjU"
      },
      "execution_count": null,
      "outputs": []
    },
    {
      "cell_type": "code",
      "source": [
        ""
      ],
      "metadata": {
        "id": "B7BNuAZWMbgV"
      },
      "execution_count": null,
      "outputs": []
    },
    {
      "cell_type": "code",
      "source": [
        ""
      ],
      "metadata": {
        "id": "aPeEpvcWuBjM"
      },
      "execution_count": null,
      "outputs": []
    },
    {
      "cell_type": "code",
      "source": [
        "clf2=gsv(Random,param_grid=param_grid, cv=5, n_jobs=-1,scoring='f1', verbose=True)"
      ],
      "metadata": {
        "id": "ucOUuag2wTJy"
      },
      "execution_count": null,
      "outputs": []
    },
    {
      "cell_type": "code",
      "source": [
        "from sklearn.model_selection import cross_val_score"
      ],
      "metadata": {
        "id": "xAVYZoB5N83Y"
      },
      "execution_count": null,
      "outputs": []
    },
    {
      "cell_type": "code",
      "source": [
        "scores = cross_val_score(clf2, x_smote,y_smote)"
      ],
      "metadata": {
        "id": "S3nV_kiCOBBG"
      },
      "execution_count": null,
      "outputs": []
    },
    {
      "cell_type": "code",
      "source": [
        "sum(list(scores))/len(list(scores))"
      ],
      "metadata": {
        "id": "5h9l9JSzevst"
      },
      "execution_count": null,
      "outputs": []
    },
    {
      "cell_type": "code",
      "source": [
        "best_clf2 = clf2.fit(x_smote,y_smote)"
      ],
      "metadata": {
        "id": "dqMi-jeLsZd4"
      },
      "execution_count": null,
      "outputs": []
    },
    {
      "cell_type": "code",
      "source": [
        "print(clf2.score(x_test, y_test)*100)"
      ],
      "metadata": {
        "id": "RptCkimasZbS"
      },
      "execution_count": null,
      "outputs": []
    },
    {
      "cell_type": "code",
      "source": [
        "y_pred = clf2.predict(x_test)"
      ],
      "metadata": {
        "id": "mgPAUQHe8aF_"
      },
      "execution_count": null,
      "outputs": []
    },
    {
      "cell_type": "code",
      "source": [
        "print(f1_score(y_test, y_pred)*100)"
      ],
      "metadata": {
        "id": "0DEiQCEPAFfq"
      },
      "execution_count": null,
      "outputs": []
    },
    {
      "cell_type": "code",
      "source": [
        "clf2.best_params_"
      ],
      "metadata": {
        "id": "TcKw-l35-O-1"
      },
      "execution_count": null,
      "outputs": []
    },
    {
      "cell_type": "code",
      "source": [
        "clf2.best_score_"
      ],
      "metadata": {
        "id": "z8lVWiVzBccH"
      },
      "execution_count": null,
      "outputs": []
    },
    {
      "cell_type": "markdown",
      "source": [
        "-----------------"
      ],
      "metadata": {
        "id": "OgoEkWmlsIkH"
      }
    },
    {
      "cell_type": "code",
      "source": [
        "Random1 = RandomForestClassifier(max_features='log2',n_estimators= 1000)"
      ],
      "metadata": {
        "id": "AaLLkk86sZYu"
      },
      "execution_count": null,
      "outputs": []
    },
    {
      "cell_type": "code",
      "source": [
        "Random1.fit(x_train,y_train)"
      ],
      "metadata": {
        "id": "bMM66G81sZVm"
      },
      "execution_count": null,
      "outputs": []
    },
    {
      "cell_type": "code",
      "source": [
        "Random1.score(x_test,y_test)*100"
      ],
      "metadata": {
        "id": "mbMR9bF6sZTL"
      },
      "execution_count": null,
      "outputs": []
    },
    {
      "cell_type": "code",
      "source": [
        "y_pred1 = Random1.predict(x_test)"
      ],
      "metadata": {
        "id": "vFZrXvuJ9FM1"
      },
      "execution_count": null,
      "outputs": []
    },
    {
      "cell_type": "code",
      "source": [
        "f1_score(y_test,y_pred1)*100"
      ],
      "metadata": {
        "id": "6IyVg2mK9SPO"
      },
      "execution_count": null,
      "outputs": []
    },
    {
      "cell_type": "markdown",
      "source": [
        "--------------------"
      ],
      "metadata": {
        "id": "d7G35KPesXhy"
      }
    },
    {
      "cell_type": "code",
      "source": [
        ""
      ],
      "metadata": {
        "id": "38rSWor2SdzH"
      },
      "execution_count": null,
      "outputs": []
    },
    {
      "cell_type": "code",
      "source": [
        ""
      ],
      "metadata": {
        "id": "6_8S1RAzzgCw"
      },
      "execution_count": null,
      "outputs": []
    },
    {
      "cell_type": "code",
      "source": [
        ""
      ],
      "metadata": {
        "id": "cOH5qYTN1pQw"
      },
      "execution_count": null,
      "outputs": []
    },
    {
      "cell_type": "code",
      "source": [
        ""
      ],
      "metadata": {
        "id": "Jt7yOfAd2xsP"
      },
      "execution_count": null,
      "outputs": []
    }
  ]
}